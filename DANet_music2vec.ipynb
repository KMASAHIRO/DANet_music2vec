{
  "nbformat": 4,
  "nbformat_minor": 0,
  "metadata": {
    "colab": {
      "name": "DANet_music2vec.ipynb",
      "provenance": [],
      "collapsed_sections": [
        "YUW6wmCvF2j0",
        "ho2KsN4dCPlL",
        "1XVWXHTxF8ZK",
        "G-XHtamEGCKb",
        "5XtpXwc3Gjqz",
        "cq0kUs5a6uHY",
        "r7EjSKPyMLG9",
        "G_Kx5ufJMOmW",
        "ypAbIQP5KsZS",
        "QyiJnOo5dRht",
        "7b5RoDwTNCKP",
        "1JCmyuitYK_s",
        "Ik4oR2pzXMqQ",
        "pSkrPOk_XRpe",
        "sUGXM6rBXmrT",
        "xFCELYkTbDpP",
        "j_1g7p1tbDpS"
      ]
    },
    "kernelspec": {
      "name": "python3",
      "display_name": "Python 3"
    },
    "language_info": {
      "name": "python"
    },
    "accelerator": "GPU"
  },
  "cells": [
    {
      "cell_type": "markdown",
      "metadata": {
        "id": "YUW6wmCvF2j0"
      },
      "source": [
        "# パッケージインポート"
      ]
    },
    {
      "cell_type": "code",
      "metadata": {
        "id": "NG8LyXsI0zdB"
      },
      "source": [
        "from IPython.display import clear_output\n",
        "import tensorflow as tf\n",
        "import itertools\n",
        "import pandas\n",
        "import numpy as np\n",
        "import scipy\n",
        "import pickle\n",
        "import librosa\n",
        "import matplotlib.pyplot as plt\n",
        "import matplotlib.style as ms\n",
        "ms.use('seaborn-muted')\n",
        "%matplotlib inline"
      ],
      "execution_count": 1,
      "outputs": []
    },
    {
      "cell_type": "markdown",
      "metadata": {
        "id": "ho2KsN4dCPlL"
      },
      "source": [
        "# データのダウンロード"
      ]
    },
    {
      "cell_type": "markdown",
      "metadata": {
        "id": "1XVWXHTxF8ZK"
      },
      "source": [
        "## ESC-50"
      ]
    },
    {
      "cell_type": "markdown",
      "metadata": {
        "id": "1RzVBcvqENRc"
      },
      "source": [
        "- 環境音データセットである[ESC-50](https://github.com/karolpiczak/ESC-50)のzipファイルをダウンロードして展開する"
      ]
    },
    {
      "cell_type": "code",
      "metadata": {
        "id": "Bl2aP09GCSnr"
      },
      "source": [
        "!wget https://github.com/karoldvl/ESC-50/archive/master.zip"
      ],
      "execution_count": null,
      "outputs": []
    },
    {
      "cell_type": "code",
      "metadata": {
        "id": "2E1rkGzqsDO6"
      },
      "source": [
        "!unzip /content/master.zip"
      ],
      "execution_count": null,
      "outputs": []
    },
    {
      "cell_type": "markdown",
      "metadata": {
        "id": "G-XHtamEGCKb"
      },
      "source": [
        "## GTZAN"
      ]
    },
    {
      "cell_type": "markdown",
      "metadata": {
        "id": "aPQsDnw5cFDw"
      },
      "source": [
        "- GTZANのダウンロード"
      ]
    },
    {
      "cell_type": "code",
      "metadata": {
        "id": "az7yQFEIaruR"
      },
      "source": [
        "!wget http://opihi.cs.uvic.ca/sound/genres.tar.gz"
      ],
      "execution_count": null,
      "outputs": []
    },
    {
      "cell_type": "code",
      "metadata": {
        "id": "-y_p2w_rdude"
      },
      "source": [
        "!tar -zxvf /content/genres.tar.gz"
      ],
      "execution_count": null,
      "outputs": []
    },
    {
      "cell_type": "markdown",
      "metadata": {
        "id": "5XtpXwc3Gjqz"
      },
      "source": [
        "# データの前処理\n"
      ]
    },
    {
      "cell_type": "markdown",
      "metadata": {
        "id": "54NvrvGWgbZa"
      },
      "source": [
        "- テストデータの情報、SoundNetの事前学習済み重みをgithub上から持ってくる"
      ]
    },
    {
      "cell_type": "code",
      "metadata": {
        "id": "9nezcYrfgXff"
      },
      "source": [
        "!git clone https://github.com/KMASAHIRO/music2vec"
      ],
      "execution_count": null,
      "outputs": []
    },
    {
      "cell_type": "code",
      "metadata": {
        "id": "keHss1sdGmBO"
      },
      "source": [
        "# DANet、music2vecの学習においてテストデータとして使ったもので推論する\n",
        "testdata_file = \"test_data.txt\"\n",
        "with open(testdata_file, \"rb\") as f:\n",
        "  testdata_file_dict = pickle.load(f)\n",
        "\n",
        "lacia_esc_filenames = testdata_file_dict[\"esc_filenames\"]\n",
        "lacia_gtzan_filenames = testdata_file_dict[\"gtzan_filenames\"]\n",
        "gtzan_labels = testdata_file_dict[\"gtzan_labels\"]"
      ],
      "execution_count": 7,
      "outputs": []
    },
    {
      "cell_type": "code",
      "metadata": {
        "id": "fWymBkJUxGb_"
      },
      "source": [
        "# DANet訓練時とデータの配置場所が異なるので、ファイルのパスを変更する\n",
        "esc_filenames = list()\n",
        "for esc in lacia_esc_filenames:\n",
        "  esc_filenames.append(\"/\".join(esc.split('/')[2:]))\n",
        "\n",
        "gtzan_filenames = list()\n",
        "for gtzan in lacia_gtzan_filenames:\n",
        "  gtzan_filenames.append(\"/\".join(gtzan.split('/')[2:]))\n",
        "\n",
        "esc_filenames = np.asarray(esc_filenames)\n",
        "gtzan_filenames = np.asarray(gtzan_filenames)"
      ],
      "execution_count": 8,
      "outputs": []
    },
    {
      "cell_type": "markdown",
      "metadata": {
        "id": "3I51wJCo9T7_"
      },
      "source": [
        "- 窓関数(ハニング窓の平方根)を定義"
      ]
    },
    {
      "cell_type": "code",
      "metadata": {
        "id": "ARks1Ss3p6p-"
      },
      "source": [
        "def square_root_of_hann(M, sym=False):\n",
        "  w = scipy.signal.windows.hann(M, sym)\n",
        "  w = np.sqrt(w)\n",
        "  return w"
      ],
      "execution_count": 9,
      "outputs": []
    },
    {
      "cell_type": "code",
      "metadata": {
        "id": "DrwBOWLAmwyy"
      },
      "source": [
        "# 音楽データのロードと短時間フーリエ変換を行う\n",
        "music_list = list()\n",
        "music_len_list = list()\n",
        "count = 0\n",
        "for name in gtzan_filenames:\n",
        "  y,sr = librosa.load(name,sr=8000)\n",
        "  D = librosa.stft(y, n_fft=256, hop_length=64, win_length=256, window=square_root_of_hann)\n",
        "  music_list.append(D)\n",
        "  music_len_list.append(D.shape[-1]//100)\n",
        "  count += D.shape[-1]//100"
      ],
      "execution_count": 10,
      "outputs": []
    },
    {
      "cell_type": "code",
      "metadata": {
        "id": "Ybt_ORSCwruW"
      },
      "source": [
        "# 環境音データのロードと短時間フーリエ変換を行う\n",
        "noise_list = list()\n",
        "for name in esc_filenames:\n",
        "  y,sr = librosa.load(name,sr=8000)\n",
        "  D = librosa.stft(y, n_fft=256, hop_length=64, win_length=256, window=square_root_of_hann)\n",
        "  noise_list.append(D)"
      ],
      "execution_count": 11,
      "outputs": []
    },
    {
      "cell_type": "markdown",
      "metadata": {
        "id": "cq0kUs5a6uHY"
      },
      "source": [
        "# DANetモデルの構築"
      ]
    },
    {
      "cell_type": "markdown",
      "metadata": {
        "id": "r7EjSKPyMLG9"
      },
      "source": [
        "## レイヤ"
      ]
    },
    {
      "cell_type": "markdown",
      "metadata": {
        "id": "OueUhYds63I2"
      },
      "source": [
        "- 推論時に位相を持ったスペクトログラムを入力されたとき、前処理するレイヤ"
      ]
    },
    {
      "cell_type": "code",
      "metadata": {
        "id": "cWji3g9wGoHB"
      },
      "source": [
        "class Preparation(tf.keras.layers.Layer):\n",
        "  def __init__(self, log_eps,  *args, **kwargs):\n",
        "    super().__init__(*args, **kwargs)\n",
        "    self.log_eps = log_eps\n",
        "\n",
        "  def call(self, input, training):\n",
        "    if training:\n",
        "      return input\n",
        "    else:\n",
        "      model_input = tf.math.log(tf.math.abs(input) + self.log_eps)\n",
        "      return model_input"
      ],
      "execution_count": 12,
      "outputs": []
    },
    {
      "cell_type": "markdown",
      "metadata": {
        "id": "6BbLqlV_7qQJ"
      },
      "source": [
        "- アトラクターを生成するレイヤ(基本的には訓練時はideal mask、推論時はkmeansを使う)"
      ]
    },
    {
      "cell_type": "code",
      "metadata": {
        "id": "BgbRQ_ooO8if"
      },
      "source": [
        "class Attractor(tf.keras.layers.Layer):\n",
        "  def __init__(self, kmeans_func, *args, **kwargs):\n",
        "    super().__init__(*args, **kwargs)\n",
        "    self.kmeans_func = kmeans_func\n",
        "    self.is_kmeans = False\n",
        "  \n",
        "  def call(self, input, training):\n",
        "    if training:\n",
        "      if self.is_kmeans:\n",
        "        attractor = self.kmeans_func(input[0])\n",
        "        attractor = tf.convert_to_tensor(attractor)\n",
        "      else:\n",
        "        att_num = tf.einsum('Ncft,Nftk->Nck',input[0],input[1])\n",
        "        att_denom = tf.math.reduce_sum(input[0],axis=[2,3]) # batch_size, c\n",
        "        att_denom = tf.reshape(att_denom,[-1,2,1])\n",
        "        attractor = att_num / att_denom\n",
        "    else:\n",
        "      attractor = self.kmeans_func(input[0])\n",
        "      attractor = tf.convert_to_tensor(attractor)\n",
        "    \n",
        "    return attractor"
      ],
      "execution_count": 13,
      "outputs": []
    },
    {
      "cell_type": "markdown",
      "metadata": {
        "id": "_DBY0FMr75ld"
      },
      "source": [
        "- maskを混合音声に掛けて音声を分離するレイヤ(推論時には混合音声が位相のある複素数のデータになる)"
      ]
    },
    {
      "cell_type": "code",
      "metadata": {
        "id": "XAHmG7nkcdu4"
      },
      "source": [
        "class Make_clean_reference(tf.keras.layers.Layer):\n",
        "  def __init__(self, *args, **kwargs):\n",
        "    super().__init__(*args, **kwargs)\n",
        "\n",
        "  def call(self, input, training):\n",
        "    if training:\n",
        "      clean_reference = tf.einsum('Nft,Nftc->Nftc',input[0],input[1])\n",
        "      return clean_reference\n",
        "    else:\n",
        "      clean_reference = tf.einsum('Nft,Nftc->Nftc',tf.cast(input[0], dtype=tf.complex64),tf.cast(input[1], dtype=tf.complex64))\n",
        "      return clean_reference"
      ],
      "execution_count": 14,
      "outputs": []
    },
    {
      "cell_type": "markdown",
      "metadata": {
        "id": "G_Kx5ufJMOmW"
      },
      "source": [
        "## モデル"
      ]
    },
    {
      "cell_type": "code",
      "metadata": {
        "id": "2GoI5Lcp9qPs"
      },
      "source": [
        "class DANet(tf.keras.Model):\n",
        "  def __init__(self, source_num, embed_ndim, batch_size, log_eps=0.0001, *args, **kwargs):\n",
        "    super().__init__(*args, **kwargs)\n",
        "\n",
        "    self.source_num = source_num\n",
        "    self.embed_ndim = embed_ndim\n",
        "    self.log_eps = log_eps\n",
        "    self.batch_size = batch_size\n",
        "    self.cluster_centers_list = np.ones(shape=(self.batch_size,self.source_num,self.embed_ndim))\n",
        "\n",
        "    self.preparation = Preparation(self.log_eps)\n",
        "    self.reshape = tf.keras.layers.Lambda(lambda x: tf.transpose(x, perm=[0,2,1]))\n",
        "    self.lstm1 = tf.keras.layers.Bidirectional(tf.keras.layers.LSTM(300,return_sequences=True),merge_mode='concat')\n",
        "    self.lstm2 = tf.keras.layers.Bidirectional(tf.keras.layers.LSTM(300,return_sequences=True),merge_mode='concat')\n",
        "    self.lstm3 = tf.keras.layers.Bidirectional(tf.keras.layers.LSTM(300,return_sequences=True),merge_mode='concat')\n",
        "    self.lstm4 = tf.keras.layers.Bidirectional(tf.keras.layers.LSTM(300,return_sequences=True),merge_mode='concat')\n",
        "    self.embedding1 = tf.keras.layers.Dense(129*self.embed_ndim)\n",
        "    self.embedding2 = tf.keras.layers.Reshape((100,129,self.embed_ndim))\n",
        "    self.embedding3 = tf.keras.layers.Lambda(lambda x: tf.transpose(x, perm=[0,2,1,3]))\n",
        "    self.make_attractor = Attractor(self.kmeans_predict)\n",
        "    self.make_mask = tf.keras.layers.Lambda(lambda x: tf.einsum('Nftk,Nck->Nftc',x[0],x[1]))\n",
        "    self.make_clean_reference = Make_clean_reference()\n",
        "  \n",
        "  def call(self,inputs,training):\n",
        "    x1 = self.preparation(inputs[0], training)\n",
        "    x1 = self.reshape(x1)\n",
        "    x1 = self.lstm1(x1)\n",
        "    x1 = self.lstm2(x1)\n",
        "    x1 = self.lstm3(x1)\n",
        "    x1 = self.lstm4(x1)\n",
        "    x1 = self.embedding1(x1)\n",
        "    x1 = self.embedding2(x1)\n",
        "    x1 = self.embedding3(x1)\n",
        "    attractor = self.make_attractor([inputs[1],x1], training)\n",
        "    mask = tf.keras.activations.softmax(self.make_mask([x1, attractor]))\n",
        "    clean_reference = self.make_clean_reference([inputs[0],mask], training)\n",
        "\n",
        "    return clean_reference\n",
        "  \n",
        "  def train_with_kmeans(self, generator, steps, epochs, ideal_epochs):\n",
        "    loss_result = list()\n",
        "    for epoch in range(epochs):\n",
        "      loss_epoch = list()\n",
        "      if epoch==ideal_epochs:\n",
        "        self.to_kmeans_train()\n",
        "      for step in range(steps):\n",
        "        train_x, train_y = next(generator)\n",
        "        if ideal_epochs<=epoch:\n",
        "          self.kmeans_fit(train_x[0])\n",
        "        loss = self.train_on_batch(x=train_x,y=train_y)\n",
        "        loss_epoch.append(loss)\n",
        "        clear_output(wait=True)\n",
        "        for epo in range(epoch):\n",
        "          print(\"Epoch {}/{}\".format(epo+1,epochs),\"loss: {:.2f}\".format(loss_result[epo]), sep=\" \", flush=True)\n",
        "        print(\"steps: {}/{}\".format(step,steps), \"{:.2f}\".format(np.mean(loss_epoch)), flush=True)\n",
        "      loss_result.append(np.mean(loss_epoch))\n",
        "    return loss_result\n",
        "  \n",
        "  def to_kmeans_train(self):\n",
        "    self.make_attractor.is_kmeans = True\n",
        "  \n",
        "  def to_idealmask_train(self):\n",
        "    self.make_attractor.is_kmeans = False\n",
        "  \n",
        "  def get_embedded_data(self,inputs,training):\n",
        "    x1 = self.preparation(inputs,training)\n",
        "    x1 = self.reshape(x1)\n",
        "    x1 = self.lstm1(x1)\n",
        "    x1 = self.lstm2(x1)\n",
        "    x1 = self.lstm3(x1)\n",
        "    x1 = self.lstm4(x1)\n",
        "    x1 = self.embedding1(x1)\n",
        "    x1 = self.embedding2(x1)\n",
        "    output = self.embedding3(x1)\n",
        "    \n",
        "    return output\n",
        "  \n",
        "  def kmeans_fit(self, inputs, max_iter=1000, random_seed=0):\n",
        "    embedded_data = self.get_embedded_data(inputs, training=False)\n",
        "\n",
        "    shape = embedded_data.shape\n",
        "    embedded_data = np.reshape(embedded_data, newshape=(shape[0], shape[1]*shape[2], shape[3]))\n",
        "\n",
        "    cluster_centers_list = list()\n",
        "\n",
        "    for n in range(len(inputs)):\n",
        "      X = embedded_data[n]\n",
        "      random_state = np.random.RandomState(random_seed)\n",
        "  \n",
        "      cycle = itertools.cycle(range(self.source_num))\n",
        "      labels = np.fromiter(itertools.islice(cycle, X.shape[0]), dtype=np.int)\n",
        "      random_state.shuffle(labels)\n",
        "      labels_prev = np.zeros(X.shape[0])\n",
        "      cluster_centers = np.zeros((self.source_num, X.shape[1]))\n",
        "    \n",
        "      for i in range(max_iter):\n",
        "        for k in range(self.source_num):\n",
        "          XX = X[labels == k,:]\n",
        "          cluster_centers[k,:] = XX.mean(axis=0)\n",
        "      \n",
        "        dist = ((X[:,:,np.newaxis] - cluster_centers.T[np.newaxis,:,:])**2).sum(axis=1)\n",
        "        labels_prev = labels\n",
        "        labels = dist.argmin(axis=1)\n",
        "\n",
        "        for k in range(self.source_num):\n",
        "          if not np.any(labels == k):\n",
        "            labels[np.random.choice(len(labels),1)] = k\n",
        "\n",
        "        if (labels == labels_prev).all():\n",
        "          break\n",
        "      \n",
        "      for k in range(self.source_num):\n",
        "          XX = X[labels == k,:]\n",
        "          cluster_centers[k,:] = XX.mean(axis=0)\n",
        "      \n",
        "      cluster_centers_list.append(cluster_centers)\n",
        "\n",
        "    self.cluster_centers_list = np.asarray(cluster_centers_list)\n",
        "\n",
        "\n",
        "  def kmeans_predict(self, input):\n",
        "    return self.cluster_centers_list\n",
        "\n",
        "  def get_batch_size(self):\n",
        "    return self.batch_size\n",
        "  \n",
        "  def set_batch_size(self, batch_size):\n",
        "    self.batch_size = batch_size\n",
        "    self.cluster_centers_list = np.ones(shape=(self.batch_size, self.source_num, self.embed_ndim))\n",
        "  \n",
        "  def prediction(self, input):\n",
        "    self.kmeans_fit(input)\n",
        "    fake_ideal_mask = np.zeros(shape=(input.shape[0],self.source_num,129,100))\n",
        "    result = self.predict([input, fake_ideal_mask],batch_size=len(input))\n",
        "    return result\n",
        "  \n",
        "  def loading(self, path):\n",
        "    input1 = np.zeros(shape=(self.batch_size,129,100))\n",
        "    input2 = np.zeros(shape=(self.batch_size,self.source_num,129,100))\n",
        "    temp = self.predict(x=[input1,input2],batch_size=self.batch_size)\n",
        "    self.load_weights(path)"
      ],
      "execution_count": 15,
      "outputs": []
    },
    {
      "cell_type": "markdown",
      "metadata": {
        "id": "ypAbIQP5KsZS"
      },
      "source": [
        "## モデル構築"
      ]
    },
    {
      "cell_type": "markdown",
      "metadata": {
        "id": "IqJLi3cPKw5L"
      },
      "source": [
        "- 損失関数を定義"
      ]
    },
    {
      "cell_type": "code",
      "metadata": {
        "id": "j4qcvh61Kw5M"
      },
      "source": [
        "def loss_function(y_true, y_pred):\n",
        "  frequency = tf.shape(y_true)[1]\n",
        "  time = tf.shape(y_true)[2]\n",
        "  frequency = tf.cast(frequency, tf.float32)\n",
        "  time = tf.cast(time, tf.float32)\n",
        "  return tf.reduce_sum((y_true - y_pred)**2) / (frequency*time)"
      ],
      "execution_count": null,
      "outputs": []
    },
    {
      "cell_type": "markdown",
      "metadata": {
        "id": "ZBpIUJDlK3UQ"
      },
      "source": [
        "- モデル構築"
      ]
    },
    {
      "cell_type": "code",
      "metadata": {
        "id": "Ewhj_W4xKw5N"
      },
      "source": [
        "def create_model(source_num=2, embed_ndim=20, optimizer=None, loss=loss_function):\n",
        "    batch_size = 30\n",
        "    model = DANet(source_num=source_num, embed_ndim=embed_ndim, batch_size=batch_size, log_eps=0.0001)\n",
        "\n",
        "    if optimizer is None:\n",
        "        lr_schedule = tf.keras.optimizers.schedules.ExponentialDecay(initial_learning_rate=0.0001, decay_steps=51450,\n",
        "                                                                     decay_rate=0.03)\n",
        "        model.compile(optimizer=tf.keras.optimizers.RMSprop(learning_rate=lr_schedule), loss=loss)\n",
        "    else:\n",
        "        model.compile(optimizer=optimizer, loss=loss)\n",
        "\n",
        "    input1 = np.zeros(shape=(batch_size, 129, 100))\n",
        "    input2 = np.zeros(shape=(batch_size, source_num, 129, 100))\n",
        "    temp = model.predict(x=[input1, input2], batch_size=batch_size)\n",
        "\n",
        "    return model"
      ],
      "execution_count": null,
      "outputs": []
    },
    {
      "cell_type": "markdown",
      "metadata": {
        "id": "QyiJnOo5dRht"
      },
      "source": [
        "# music2vecモデルの構築"
      ]
    },
    {
      "cell_type": "markdown",
      "metadata": {
        "id": "H9RreXBh1UEU"
      },
      "source": [
        "- 事前学習済みの重みを用いてSoundNetを構築する関数(https://github.com/pseeth/soundnet_keras/blob/master/soundnet.py より)"
      ]
    },
    {
      "cell_type": "code",
      "metadata": {
        "id": "sQ3c9mY11pBn"
      },
      "source": [
        "from tensorflow.keras.layers import BatchNormalization, Activation, Conv1D, MaxPooling1D, ZeroPadding1D, InputLayer\n",
        "from tensorflow.keras.models import Sequential\n",
        "import numpy as np\n",
        "import librosa\n",
        "\n",
        "\n",
        "def preprocess(audio):\n",
        "    audio *= 256.0  # SoundNet needs the range to be between -256 and 256\n",
        "    # reshaping the audio data so it fits into the graph (batch_size, num_samples, num_filter_channels)\n",
        "    audio = np.reshape(audio, (1, -1, 1))\n",
        "    return audio\n",
        "\n",
        "\n",
        "def load_audio(audio_file):\n",
        "    sample_rate = 22050  # SoundNet works on mono audio files with a sample rate of 22050.\n",
        "    audio, sr = librosa.load(audio_file, dtype='float32', sr=22050, mono=True)\n",
        "    audio = preprocess(audio)\n",
        "    return audio\n",
        "\n",
        "\n",
        "def build_model():\n",
        "    \"\"\"\n",
        "    Builds up the SoundNet model and loads the weights from a given model file (8-layer model is kept at models/sound8.npy).\n",
        "    :return:\n",
        "    \"\"\"\n",
        "    model_weights = np.load('/content/music2vec/music2vec/sound8.npy',allow_pickle=True,encoding='bytes').item()\n",
        "\n",
        "    keys = list()\n",
        "    for key in model_weights.keys():\n",
        "      keys.append(key)\n",
        "    for name in keys:\n",
        "      model_weights[name.decode('utf-8')] = model_weights[name]\n",
        "      model_weights.pop(name)\n",
        "      ch_keys = list()\n",
        "      for key in model_weights[name.decode('utf-8')]:\n",
        "        ch_keys.append(key)\n",
        "      for ch_name in ch_keys:\n",
        "        model_weights[name.decode('utf-8')][ch_name.decode('utf-8')] = model_weights[name.decode('utf-8')][ch_name]\n",
        "        model_weights[name.decode('utf-8')].pop(ch_name)\n",
        "    \n",
        "    model = Sequential()\n",
        "    model.add(InputLayer(batch_input_shape=(None, None, 1)))\n",
        "\n",
        "    filter_parameters = [{'name': 'conv1', 'num_filters': 16, 'padding': 32,\n",
        "                          'kernel_size': 64, 'conv_strides': 2,\n",
        "                          'pool_size': 8, 'pool_strides': 8},\n",
        "\n",
        "                         {'name': 'conv2', 'num_filters': 32, 'padding': 16,\n",
        "                          'kernel_size': 32, 'conv_strides': 2,\n",
        "                          'pool_size': 8, 'pool_strides': 8},\n",
        "\n",
        "                         {'name': 'conv3', 'num_filters': 64, 'padding': 8,\n",
        "                          'kernel_size': 16, 'conv_strides': 2},\n",
        "\n",
        "                         {'name': 'conv4', 'num_filters': 128, 'padding': 4,\n",
        "                          'kernel_size': 8, 'conv_strides': 2},\n",
        "\n",
        "                         {'name': 'conv5', 'num_filters': 256, 'padding': 2,\n",
        "                          'kernel_size': 4, 'conv_strides': 2,\n",
        "                          'pool_size': 4, 'pool_strides': 4},\n",
        "\n",
        "                         {'name': 'conv6', 'num_filters': 512, 'padding': 2,\n",
        "                          'kernel_size': 4, 'conv_strides': 2},\n",
        "\n",
        "                         {'name': 'conv7', 'num_filters': 1024, 'padding': 2,\n",
        "                          'kernel_size': 4, 'conv_strides': 2},\n",
        "\n",
        "                         {'name': 'conv8_2', 'num_filters': 401, 'padding': 0,\n",
        "                          'kernel_size': 8, 'conv_strides': 2},\n",
        "                         ]\n",
        "\n",
        "    for x in filter_parameters:\n",
        "        model.add(ZeroPadding1D(padding=x['padding']))\n",
        "        model.add(Conv1D(x['num_filters'],\n",
        "                         kernel_size=x['kernel_size'],\n",
        "                         strides=x['conv_strides'],\n",
        "                         padding='valid'))\n",
        "        weights = model_weights[x['name']]['weights'].reshape(model.layers[-1].get_weights()[0].shape)\n",
        "        biases = model_weights[x['name']]['biases']\n",
        "\n",
        "        model.layers[-1].set_weights([weights, biases])\n",
        "\n",
        "        if 'conv8' not in x['name']:\n",
        "            gamma = model_weights[x['name']]['gamma']\n",
        "            beta = model_weights[x['name']]['beta']\n",
        "            mean = model_weights[x['name']]['mean']\n",
        "            var = model_weights[x['name']]['var']\n",
        "\n",
        "\n",
        "            model.add(BatchNormalization())\n",
        "            model.layers[-1].set_weights([gamma, beta, mean, var])\n",
        "            model.add(Activation('relu'))\n",
        "        if 'pool_size' in x:\n",
        "            model.add(MaxPooling1D(pool_size=x['pool_size'],\n",
        "                                   strides=x['pool_strides'],\n",
        "                                   padding='valid'))\n",
        "\n",
        "    return model\n",
        "\n",
        "\n",
        "def predict_scene_from_audio_file(audio_file):\n",
        "    model = build_model()\n",
        "    audio = load_audio(audio_file)\n",
        "    return model.predict(audio)\n",
        "\n",
        "\n",
        "def predictions_to_scenes(prediction):\n",
        "    scenes = []\n",
        "    with open('categories/categories_places2.txt', 'r') as f:\n",
        "        categories = f.read().split('\\n')\n",
        "        for p in range(prediction.shape[1]):\n",
        "            scenes.append(categories[np.argmax(prediction[0, p, :])])\n",
        "    return scenes"
      ],
      "execution_count": 17,
      "outputs": []
    },
    {
      "cell_type": "markdown",
      "metadata": {
        "id": "2-DY8Vhh2S_c"
      },
      "source": [
        "- モデル構築"
      ]
    },
    {
      "cell_type": "code",
      "metadata": {
        "id": "0RbNxE8D03z7"
      },
      "source": [
        "soundnet = build_model()"
      ],
      "execution_count": null,
      "outputs": []
    },
    {
      "cell_type": "code",
      "metadata": {
        "id": "-7wuupiKT9pE"
      },
      "source": [
        "music2vec_input = tf.keras.Input(shape=(675808,1))\n",
        "x = soundnet(music2vec_input)\n",
        "x = tf.keras.layers.LSTM(200,return_sequences=True)(x)\n",
        "x = tf.keras.layers.LSTM(200,return_sequences=True)(x)\n",
        "x = tf.keras.layers.Flatten()(x)\n",
        "x = tf.keras.layers.Dense(400)(x)\n",
        "x = tf.keras.layers.Dense(100)(x)\n",
        "music2vec_output = tf.keras.layers.Dense(10,activation='softmax')(x)\n",
        "music2vec = tf.keras.Model(inputs=music2vec_input,outputs=music2vec_output)"
      ],
      "execution_count": null,
      "outputs": []
    },
    {
      "cell_type": "markdown",
      "metadata": {
        "id": "7b5RoDwTNCKP"
      },
      "source": [
        "# テストデータの生成"
      ]
    },
    {
      "cell_type": "code",
      "metadata": {
        "id": "SrTm9yLkVXfA"
      },
      "source": [
        "# 音楽に環境音を1つ混ぜるとき\n",
        "def create_testdata1(noise_Fourier_list, music_Fourier_list, log_eps = 0.0001):\n",
        "  noise_index1 = 0\n",
        "  noise_index2 = 0\n",
        "  music_index1 = 0\n",
        "  music_index2 = 0\n",
        "\n",
        "  mixture = list()\n",
        "  ideal_mask = list()\n",
        "  correct = list()\n",
        "  \n",
        "  while True:\n",
        "    try:\n",
        "      if noise_Fourier_list[noise_index1].shape[-1]<100:\n",
        "        raise TypeError(\"The noise data is too short.\")\n",
        "      if music_Fourier_list[music_index1].shape[-1]<100:\n",
        "        raise TypeError(\"The music data is too short.\")\n",
        "    except TypeError as message:\n",
        "      print(message)\n",
        "      \n",
        "    noise_input = noise_Fourier_list[noise_index1][:,noise_index2*100:(noise_index2+1)*100]\n",
        "    music_input = music_Fourier_list[music_index1][:,music_index2*100:(music_index2+1)*100]\n",
        "    noise_index2 += 1\n",
        "    music_index2 += 1\n",
        "    \n",
        "    if (noise_index2+1)*100 > noise_Fourier_list[noise_index1].shape[-1]:\n",
        "      noise_index1  += 1\n",
        "      noise_index2 = 0\n",
        "      if noise_index1 == len(noise_Fourier_list):\n",
        "        noise_index1 = 0\n",
        "\n",
        "    if (music_index2+1)*100 > music_Fourier_list[music_index1].shape[-1]:\n",
        "      music_index1  += 1\n",
        "      music_index2 = 0\n",
        "      if music_index1 == len(music_Fourier_list):\n",
        "        music_index1 = 0\n",
        "        noise_index1 = 0\n",
        "        noise_index2 = 0\n",
        "\n",
        "    \n",
        "    with np.errstate(all=\"raise\"):\n",
        "      mix = noise_input + music_input\n",
        "\n",
        "      mixture.append(mix)\n",
        "      correct.append(np.transpose(np.asarray([music_input, noise_input]),axes=[1,2,0]))\n",
        "      max = np.max(np.asarray([music_input, noise_input]), axis=0)\n",
        "      music_ideal = np.logical_not(music_input - max).astype(np.float32)\n",
        "      noise_ideal = np.logical_not(noise_input - max).astype(np.float32)\n",
        "        \n",
        "      if not np.any(music_ideal):\n",
        "        mixture.pop()\n",
        "        correct.pop()\n",
        "        continue\n",
        "      if not np.any(noise_ideal):\n",
        "        mixture.pop()\n",
        "        correct.pop()\n",
        "        if music_index2==0:\n",
        "          if music_index1==0:\n",
        "            music_index1 = len(music_Fourier_list) - 1\n",
        "            music_index2 = music_Fourier_list[music_index1].shape[-1] // 100 - 1\n",
        "          else:\n",
        "            music_index1 -= 1\n",
        "            music_index2 = music_Fourier_list[music_index1].shape[-1] // 100 - 1\n",
        "        else:\n",
        "          music_index2 -= 1\n",
        "        continue\n",
        "      ideal_mask.append([music_ideal, noise_ideal])\n",
        "\n",
        "      if music_index1==0 and music_index2==0:\n",
        "        x_train1 = np.asarray(mixture)\n",
        "        x_train2 = np.asarray(ideal_mask)\n",
        "        y_train = np.asarray(correct)\n",
        "\n",
        "        mixture = list()\n",
        "        ideal_mask = list()\n",
        "        correct = list()\n",
        "\n",
        "        return [x_train1, x_train2], y_train"
      ],
      "execution_count": 18,
      "outputs": []
    },
    {
      "cell_type": "code",
      "metadata": {
        "id": "uIR1FnrRweXc"
      },
      "source": [
        "# 音楽に環境音を2つ混ぜるとき\n",
        "def create_testdata2(noise_Fourier_list, music_Fourier_list, log_eps = 0.0001):\n",
        "  noise_index1 = 0\n",
        "  noise_index2 = 0\n",
        "  music_index1 = 0\n",
        "  music_index2 = 0\n",
        "\n",
        "  mixture = list()\n",
        "  ideal_mask = list()\n",
        "  correct = list()\n",
        "  \n",
        "  while True:\n",
        "    try:\n",
        "      if noise_Fourier_list[noise_index1].shape[-1]<100:\n",
        "        raise TypeError(\"The noise data is too short.\")\n",
        "      if music_Fourier_list[music_index1].shape[-1]<100:\n",
        "        raise TypeError(\"The music data is too short.\")\n",
        "    except TypeError as message:\n",
        "      print(message)\n",
        "      \n",
        "    noise_input = noise_Fourier_list[noise_index1][:,noise_index2*100:(noise_index2+1)*100] + \\\n",
        "    noise_Fourier_list[(noise_index1+1)%len(noise_Fourier_list)][:,noise_index2*100:(noise_index2+1)*100]\n",
        "    music_input = music_Fourier_list[music_index1][:,music_index2*100:(music_index2+1)*100]\n",
        "    noise_index2 += 1\n",
        "    music_index2 += 1\n",
        "    \n",
        "    if (noise_index2+1)*100 > noise_Fourier_list[noise_index1].shape[-1]:\n",
        "      noise_index1  += 1\n",
        "      noise_index2 = 0\n",
        "      if noise_index1 == len(noise_Fourier_list):\n",
        "        noise_index1 = 0\n",
        "\n",
        "    if (music_index2+1)*100 > music_Fourier_list[music_index1].shape[-1]:\n",
        "      music_index1  += 1\n",
        "      music_index2 = 0\n",
        "      if music_index1 == len(music_Fourier_list):\n",
        "        music_index1 = 0\n",
        "        noise_index1 = 0\n",
        "        noise_index2 = 0\n",
        "\n",
        "    \n",
        "    with np.errstate(all=\"raise\"):\n",
        "      mix = noise_input + music_input\n",
        "\n",
        "      mixture.append(mix)\n",
        "      correct.append(np.transpose(np.asarray([music_input, noise_input]),axes=[1,2,0]))\n",
        "      max = np.max(np.asarray([music_input, noise_input]), axis=0)\n",
        "      music_ideal = np.logical_not(music_input - max).astype(np.float32)\n",
        "      noise_ideal = np.logical_not(noise_input - max).astype(np.float32)\n",
        "        \n",
        "      if not np.any(music_ideal):\n",
        "        mixture.pop()\n",
        "        correct.pop()\n",
        "        continue\n",
        "      if not np.any(noise_ideal):\n",
        "        mixture.pop()\n",
        "        correct.pop()\n",
        "        if music_index2==0:\n",
        "          if music_index1==0:\n",
        "            music_index1 = len(music_Fourier_list) - 1\n",
        "            music_index2 = music_Fourier_list[music_index1].shape[-1] // 100 - 1\n",
        "          else:\n",
        "            music_index1 -= 1\n",
        "            music_index2 = music_Fourier_list[music_index1].shape[-1] // 100 - 1\n",
        "        else:\n",
        "          music_index2 -= 1\n",
        "        continue\n",
        "      ideal_mask.append([music_ideal, noise_ideal])\n",
        "\n",
        "      if music_index1==0 and music_index2==0:\n",
        "        x_train1 = np.asarray(mixture)\n",
        "        x_train2 = np.asarray(ideal_mask)\n",
        "        y_train = np.asarray(correct)\n",
        "\n",
        "        mixture = list()\n",
        "        ideal_mask = list()\n",
        "        correct = list()\n",
        "\n",
        "        return [x_train1, x_train2], y_train"
      ],
      "execution_count": 19,
      "outputs": []
    },
    {
      "cell_type": "markdown",
      "metadata": {
        "id": "XsubyFMjQzVF"
      },
      "source": [
        "# 推論"
      ]
    },
    {
      "cell_type": "markdown",
      "metadata": {
        "id": "1JCmyuitYK_s"
      },
      "source": [
        "## 環境音1つ"
      ]
    },
    {
      "cell_type": "markdown",
      "metadata": {
        "id": "V10c-TaBLUrg"
      },
      "source": [
        "- DANetモデルの作成、重みをロード"
      ]
    },
    {
      "cell_type": "code",
      "metadata": {
        "id": "qgMHIxXQMlbc"
      },
      "source": [
        "model = create_model()"
      ],
      "execution_count": 22,
      "outputs": []
    },
    {
      "cell_type": "code",
      "metadata": {
        "id": "xF2VudUGv8s8"
      },
      "source": [
        "filepath = \"DANet_music_kmeans1_weights.h5\"\n",
        "model.loading(filepath)"
      ],
      "execution_count": 23,
      "outputs": []
    },
    {
      "cell_type": "markdown",
      "metadata": {
        "id": "hU1TMnS9LawU"
      },
      "source": [
        "- DANetの推論"
      ]
    },
    {
      "cell_type": "code",
      "metadata": {
        "id": "qBHk_GYdDBcn"
      },
      "source": [
        "test_data, before_data = create_testdata1(noise_Fourier_list=noise_list,music_Fourier_list=music_list)"
      ],
      "execution_count": 24,
      "outputs": []
    },
    {
      "cell_type": "code",
      "metadata": {
        "id": "iQ0GfACkwwox"
      },
      "source": [
        "DANet_result = model.prediction(test_data[0])"
      ],
      "execution_count": 25,
      "outputs": []
    },
    {
      "cell_type": "code",
      "metadata": {
        "id": "wnpDREK_4Kqx"
      },
      "source": [
        "# DANetの出力(スペクトログラム)を音声波形に戻す\n",
        "after = list()\n",
        "for i in range(len(DANet_result)):\n",
        "  after_i_1 = librosa.istft(DANet_result[i,:,:,0].reshape((129,100)), hop_length=64, win_length=256, \n",
        "                            window=square_root_of_hann, dtype=np.float32)\n",
        "  after_i_2 = librosa.istft(DANet_result[i,:,:,1].reshape((129,100)), hop_length=64, win_length=256,\n",
        "                            window=square_root_of_hann, dtype=np.float32)\n",
        "  after.append([after_i_1,after_i_2])\n",
        "\n",
        "after = np.asarray(after)"
      ],
      "execution_count": 26,
      "outputs": []
    },
    {
      "cell_type": "code",
      "metadata": {
        "id": "nnZjHd3lVL6m"
      },
      "source": [
        "# music2vecの結果の比較に利用するため、DANetの教師データ(音楽データ)を音声波形に戻す\n",
        "ideal_data = list()\n",
        "for i in range(len(before_data)):\n",
        "  music = librosa.istft(before_data[i,:,:,0].reshape((129,100)), hop_length=64, win_length=256, \n",
        "                            window=square_root_of_hann, dtype=np.float32)\n",
        "  noise = librosa.istft(before_data[i,:,:,1].reshape((129,100)), hop_length=64, win_length=256,\n",
        "                            window=square_root_of_hann, dtype=np.float32)\n",
        "  ideal_data.append([music,noise])\n",
        "\n",
        "ideal_data = np.asarray(ideal_data)"
      ],
      "execution_count": 27,
      "outputs": []
    },
    {
      "cell_type": "code",
      "metadata": {
        "id": "kPPFd8eDWAqX"
      },
      "source": [
        "# music2vecの結果の比較に利用するため、DANetの入力データ(音楽と環境音の混合音声)を音声波形に戻す\n",
        "mix_data = list()\n",
        "for i in range(len(test_data[0])):\n",
        "  mix = librosa.istft(test_data[0][i].reshape((129,100)), hop_length=64, win_length=256, \n",
        "                            window=square_root_of_hann, dtype=np.float32)\n",
        "  mix_data.append(mix)\n",
        "\n",
        "mix_data = np.asarray(mix_data)"
      ],
      "execution_count": 28,
      "outputs": []
    },
    {
      "cell_type": "markdown",
      "metadata": {
        "id": "Ik4oR2pzXMqQ"
      },
      "source": [
        "### DANetの出力"
      ]
    },
    {
      "cell_type": "code",
      "metadata": {
        "id": "ajjze36GZ851"
      },
      "source": [
        "# music2vecモデルのロード\n",
        "model_path = \"music2vec_20epochs.h5\"\n",
        "music2vec = tf.keras.models.load_model(model_path)"
      ],
      "execution_count": 31,
      "outputs": []
    },
    {
      "cell_type": "code",
      "metadata": {
        "id": "0cUSJ6ixZ852"
      },
      "source": [
        "# music2vecに入力するための前処理\n",
        "which = 0\n",
        "total_num = 0\n",
        "soundnet_input = list()\n",
        "\n",
        "for i in range(len(music_len_list)):\n",
        "  input = np.concatenate(after[total_num:total_num+music_len_list[i],which],axis=0)\n",
        "  resampled = librosa.resample(input,8000,22050)\n",
        "  padded = np.concatenate([resampled, np.zeros(675808-len(resampled))],axis=0)\n",
        "  padded *= 256.0\n",
        "  padded = np.reshape(padded,(-1,1))\n",
        "  soundnet_input.append(padded)\n",
        "  total_num += music_len_list[i]\n",
        "\n",
        "soundnet_input = np.asarray(soundnet_input)"
      ],
      "execution_count": 32,
      "outputs": []
    },
    {
      "cell_type": "code",
      "metadata": {
        "id": "eFuQ4O7TZ852"
      },
      "source": [
        "# 推論\n",
        "music2vec_result = music2vec.predict(soundnet_input,batch_size=25)"
      ],
      "execution_count": 33,
      "outputs": []
    },
    {
      "cell_type": "code",
      "metadata": {
        "id": "9dnnpDjWZ86B"
      },
      "source": [
        "# モデルの出力やラベルと、それが表すジャンルを対応させる\n",
        "genre_list = [\"blues\",\"classical\",\"country\",\"disco\",\"hiphop\",\"jazz\",\"metal\",\"pop\",\"reggae\",\"rock\"]\n",
        "\n",
        "genre_pred = list()\n",
        "genre_true = list()\n",
        "for i in range(len(gtzan_labels)):\n",
        "  genre_pred.append(genre_list[tf.math.argmax(music2vec_result[i],axis=0)])\n",
        "  genre_true.append(genre_list[tf.math.argmax(gtzan_labels[i],axis=0)])"
      ],
      "execution_count": 37,
      "outputs": []
    },
    {
      "cell_type": "code",
      "metadata": {
        "id": "naOtqJWPZ86C"
      },
      "source": [
        "# 混同行列の作成\n",
        "from sklearn.metrics import confusion_matrix\n",
        "import pandas as pd\n",
        "df = pd.DataFrame(confusion_matrix(genre_true, genre_pred, labels=genre_list))\n",
        "df.columns = genre_list\n",
        "df.index = genre_list"
      ],
      "execution_count": 40,
      "outputs": []
    },
    {
      "cell_type": "code",
      "metadata": {
        "colab": {
          "base_uri": "https://localhost:8080/"
        },
        "id": "HazkDaFONgzN",
        "outputId": "e6788c13-d53e-445f-f5b7-e8b11947fddb"
      },
      "source": [
        "df"
      ],
      "execution_count": null,
      "outputs": [
        {
          "output_type": "execute_result",
          "data": {
            "text/html": [
              "<div>\n",
              "<style scoped>\n",
              "    .dataframe tbody tr th:only-of-type {\n",
              "        vertical-align: middle;\n",
              "    }\n",
              "\n",
              "    .dataframe tbody tr th {\n",
              "        vertical-align: top;\n",
              "    }\n",
              "\n",
              "    .dataframe thead th {\n",
              "        text-align: right;\n",
              "    }\n",
              "</style>\n",
              "<table border=\"1\" class=\"dataframe\">\n",
              "  <thead>\n",
              "    <tr style=\"text-align: right;\">\n",
              "      <th></th>\n",
              "      <th>blues</th>\n",
              "      <th>classical</th>\n",
              "      <th>country</th>\n",
              "      <th>disco</th>\n",
              "      <th>hiphop</th>\n",
              "      <th>jazz</th>\n",
              "      <th>metal</th>\n",
              "      <th>pop</th>\n",
              "      <th>reggae</th>\n",
              "      <th>rock</th>\n",
              "    </tr>\n",
              "  </thead>\n",
              "  <tbody>\n",
              "    <tr>\n",
              "      <th>blues</th>\n",
              "      <td>0</td>\n",
              "      <td>0</td>\n",
              "      <td>0</td>\n",
              "      <td>0</td>\n",
              "      <td>0</td>\n",
              "      <td>2</td>\n",
              "      <td>2</td>\n",
              "      <td>0</td>\n",
              "      <td>0</td>\n",
              "      <td>0</td>\n",
              "    </tr>\n",
              "    <tr>\n",
              "      <th>classical</th>\n",
              "      <td>0</td>\n",
              "      <td>1</td>\n",
              "      <td>0</td>\n",
              "      <td>0</td>\n",
              "      <td>2</td>\n",
              "      <td>0</td>\n",
              "      <td>1</td>\n",
              "      <td>0</td>\n",
              "      <td>0</td>\n",
              "      <td>0</td>\n",
              "    </tr>\n",
              "    <tr>\n",
              "      <th>country</th>\n",
              "      <td>0</td>\n",
              "      <td>1</td>\n",
              "      <td>0</td>\n",
              "      <td>0</td>\n",
              "      <td>2</td>\n",
              "      <td>5</td>\n",
              "      <td>0</td>\n",
              "      <td>0</td>\n",
              "      <td>0</td>\n",
              "      <td>0</td>\n",
              "    </tr>\n",
              "    <tr>\n",
              "      <th>disco</th>\n",
              "      <td>0</td>\n",
              "      <td>0</td>\n",
              "      <td>0</td>\n",
              "      <td>0</td>\n",
              "      <td>6</td>\n",
              "      <td>1</td>\n",
              "      <td>0</td>\n",
              "      <td>0</td>\n",
              "      <td>0</td>\n",
              "      <td>0</td>\n",
              "    </tr>\n",
              "    <tr>\n",
              "      <th>hiphop</th>\n",
              "      <td>0</td>\n",
              "      <td>0</td>\n",
              "      <td>0</td>\n",
              "      <td>0</td>\n",
              "      <td>3</td>\n",
              "      <td>0</td>\n",
              "      <td>0</td>\n",
              "      <td>0</td>\n",
              "      <td>0</td>\n",
              "      <td>0</td>\n",
              "    </tr>\n",
              "    <tr>\n",
              "      <th>jazz</th>\n",
              "      <td>0</td>\n",
              "      <td>0</td>\n",
              "      <td>0</td>\n",
              "      <td>0</td>\n",
              "      <td>0</td>\n",
              "      <td>7</td>\n",
              "      <td>0</td>\n",
              "      <td>0</td>\n",
              "      <td>0</td>\n",
              "      <td>0</td>\n",
              "    </tr>\n",
              "    <tr>\n",
              "      <th>metal</th>\n",
              "      <td>0</td>\n",
              "      <td>0</td>\n",
              "      <td>0</td>\n",
              "      <td>0</td>\n",
              "      <td>2</td>\n",
              "      <td>0</td>\n",
              "      <td>0</td>\n",
              "      <td>0</td>\n",
              "      <td>0</td>\n",
              "      <td>0</td>\n",
              "    </tr>\n",
              "    <tr>\n",
              "      <th>pop</th>\n",
              "      <td>0</td>\n",
              "      <td>0</td>\n",
              "      <td>0</td>\n",
              "      <td>0</td>\n",
              "      <td>2</td>\n",
              "      <td>1</td>\n",
              "      <td>1</td>\n",
              "      <td>0</td>\n",
              "      <td>0</td>\n",
              "      <td>0</td>\n",
              "    </tr>\n",
              "    <tr>\n",
              "      <th>reggae</th>\n",
              "      <td>0</td>\n",
              "      <td>0</td>\n",
              "      <td>0</td>\n",
              "      <td>0</td>\n",
              "      <td>3</td>\n",
              "      <td>1</td>\n",
              "      <td>0</td>\n",
              "      <td>0</td>\n",
              "      <td>0</td>\n",
              "      <td>0</td>\n",
              "    </tr>\n",
              "    <tr>\n",
              "      <th>rock</th>\n",
              "      <td>0</td>\n",
              "      <td>0</td>\n",
              "      <td>0</td>\n",
              "      <td>0</td>\n",
              "      <td>2</td>\n",
              "      <td>5</td>\n",
              "      <td>0</td>\n",
              "      <td>0</td>\n",
              "      <td>0</td>\n",
              "      <td>0</td>\n",
              "    </tr>\n",
              "  </tbody>\n",
              "</table>\n",
              "</div>"
            ],
            "text/plain": [
              "           blues  classical  country  disco  ...  metal  pop  reggae  rock\n",
              "blues          0          0        0      0  ...      2    0       0     0\n",
              "classical      0          1        0      0  ...      1    0       0     0\n",
              "country        0          1        0      0  ...      0    0       0     0\n",
              "disco          0          0        0      0  ...      0    0       0     0\n",
              "hiphop         0          0        0      0  ...      0    0       0     0\n",
              "jazz           0          0        0      0  ...      0    0       0     0\n",
              "metal          0          0        0      0  ...      0    0       0     0\n",
              "pop            0          0        0      0  ...      1    0       0     0\n",
              "reggae         0          0        0      0  ...      0    0       0     0\n",
              "rock           0          0        0      0  ...      0    0       0     0\n",
              "\n",
              "[10 rows x 10 columns]"
            ]
          },
          "metadata": {
            "tags": []
          },
          "execution_count": 41
        }
      ]
    },
    {
      "cell_type": "code",
      "metadata": {
        "colab": {
          "base_uri": "https://localhost:8080/"
        },
        "id": "Rr4gVsPi0p9-",
        "outputId": "c72581a1-4ee6-480b-de69-bd3f8b5bdda3"
      },
      "source": [
        "# Accuracy・Precision・Recall・F1の計算\n",
        "from sklearn.metrics import accuracy_score\n",
        "from sklearn.metrics import precision_score\n",
        "from sklearn.metrics import recall_score\n",
        "from sklearn.metrics import f1_score\n",
        "print(\"accuracy:\",accuracy_score(genre_true,genre_pred))\n",
        "print(\"precision:\",precision_score(genre_true,genre_pred,average=\"weighted\",zero_division=0))\n",
        "print(\"recall:\",recall_score(genre_true,genre_pred,average=\"weighted\",zero_division=0))\n",
        "print(\"f1:\",f1_score(genre_true,genre_pred,average=\"weighted\",zero_division=0))"
      ],
      "execution_count": 44,
      "outputs": [
        {
          "output_type": "stream",
          "text": [
            "accuracy: 0.22\n",
            "precision: 0.09272727272727273\n",
            "recall: 0.22\n",
            "f1: 0.10865287356321839\n"
          ],
          "name": "stdout"
        }
      ]
    },
    {
      "cell_type": "markdown",
      "metadata": {
        "id": "pSkrPOk_XRpe"
      },
      "source": [
        "### 音楽"
      ]
    },
    {
      "cell_type": "code",
      "metadata": {
        "id": "4dWOxMz6aFff"
      },
      "source": [
        "# music2vecモデルのロード\n",
        "model_path = \"music2vec_20epochs.h5\"\n",
        "music2vec = tf.keras.models.load_model(model_path)"
      ],
      "execution_count": 50,
      "outputs": []
    },
    {
      "cell_type": "code",
      "metadata": {
        "id": "VtJYuc8KaFfg"
      },
      "source": [
        "# music2vecに入力するための前処理\n",
        "total_num = 0\n",
        "soundnet_input = list()\n",
        "\n",
        "for i in range(len(music_len_list)):\n",
        "  input = np.concatenate(ideal_data[total_num:total_num+music_len_list[i],0],axis=0)\n",
        "  resampled = librosa.resample(input,8000,22050)\n",
        "  padded = np.concatenate([resampled, np.zeros(675808-len(resampled))],axis=0)\n",
        "  padded *= 256.0\n",
        "  padded = np.reshape(padded,(-1,1))\n",
        "  soundnet_input.append(padded)\n",
        "  total_num += music_len_list[i]\n",
        "\n",
        "soundnet_input = np.asarray(soundnet_input)"
      ],
      "execution_count": 51,
      "outputs": []
    },
    {
      "cell_type": "code",
      "metadata": {
        "id": "moiwoHIEaFfh"
      },
      "source": [
        "# 推論\n",
        "music2vec_result = music2vec.predict(soundnet_input,batch_size=25)"
      ],
      "execution_count": 52,
      "outputs": []
    },
    {
      "cell_type": "code",
      "metadata": {
        "id": "34_l7eaFaFfj"
      },
      "source": [
        "# モデルの出力やラベルと、それが表すジャンルを対応させる\n",
        "genre_list = [\"blues\",\"classical\",\"country\",\"disco\",\"hiphop\",\"jazz\",\"metal\",\"pop\",\"reggae\",\"rock\"]\n",
        "\n",
        "genre_pred = list()\n",
        "genre_true = list()\n",
        "for i in range(len(gtzan_labels)):\n",
        "  genre_pred.append(genre_list[tf.math.argmax(music2vec_result[i],axis=0)])\n",
        "  genre_true.append(genre_list[tf.math.argmax(gtzan_labels[i],axis=0)])"
      ],
      "execution_count": 53,
      "outputs": []
    },
    {
      "cell_type": "code",
      "metadata": {
        "id": "_YCgeTV5aFfl"
      },
      "source": [
        "# 混同行列の作成\n",
        "from sklearn.metrics import confusion_matrix\n",
        "import pandas as pd\n",
        "df = pd.DataFrame(confusion_matrix(genre_true, genre_pred, labels=genre_list))\n",
        "df.columns = genre_list\n",
        "df.index = genre_list"
      ],
      "execution_count": 56,
      "outputs": []
    },
    {
      "cell_type": "code",
      "metadata": {
        "colab": {
          "base_uri": "https://localhost:8080/"
        },
        "id": "d45azI5rNeJh",
        "outputId": "ddfe0207-4374-447a-f05e-bcef60eb1eff"
      },
      "source": [
        "df"
      ],
      "execution_count": null,
      "outputs": [
        {
          "output_type": "execute_result",
          "data": {
            "text/html": [
              "<div>\n",
              "<style scoped>\n",
              "    .dataframe tbody tr th:only-of-type {\n",
              "        vertical-align: middle;\n",
              "    }\n",
              "\n",
              "    .dataframe tbody tr th {\n",
              "        vertical-align: top;\n",
              "    }\n",
              "\n",
              "    .dataframe thead th {\n",
              "        text-align: right;\n",
              "    }\n",
              "</style>\n",
              "<table border=\"1\" class=\"dataframe\">\n",
              "  <thead>\n",
              "    <tr style=\"text-align: right;\">\n",
              "      <th></th>\n",
              "      <th>blues</th>\n",
              "      <th>classical</th>\n",
              "      <th>country</th>\n",
              "      <th>disco</th>\n",
              "      <th>hiphop</th>\n",
              "      <th>jazz</th>\n",
              "      <th>metal</th>\n",
              "      <th>pop</th>\n",
              "      <th>reggae</th>\n",
              "      <th>rock</th>\n",
              "    </tr>\n",
              "  </thead>\n",
              "  <tbody>\n",
              "    <tr>\n",
              "      <th>blues</th>\n",
              "      <td>3</td>\n",
              "      <td>0</td>\n",
              "      <td>1</td>\n",
              "      <td>0</td>\n",
              "      <td>0</td>\n",
              "      <td>0</td>\n",
              "      <td>0</td>\n",
              "      <td>0</td>\n",
              "      <td>0</td>\n",
              "      <td>0</td>\n",
              "    </tr>\n",
              "    <tr>\n",
              "      <th>classical</th>\n",
              "      <td>0</td>\n",
              "      <td>4</td>\n",
              "      <td>0</td>\n",
              "      <td>0</td>\n",
              "      <td>0</td>\n",
              "      <td>0</td>\n",
              "      <td>0</td>\n",
              "      <td>0</td>\n",
              "      <td>0</td>\n",
              "      <td>0</td>\n",
              "    </tr>\n",
              "    <tr>\n",
              "      <th>country</th>\n",
              "      <td>1</td>\n",
              "      <td>1</td>\n",
              "      <td>5</td>\n",
              "      <td>0</td>\n",
              "      <td>0</td>\n",
              "      <td>0</td>\n",
              "      <td>0</td>\n",
              "      <td>1</td>\n",
              "      <td>0</td>\n",
              "      <td>0</td>\n",
              "    </tr>\n",
              "    <tr>\n",
              "      <th>disco</th>\n",
              "      <td>0</td>\n",
              "      <td>0</td>\n",
              "      <td>1</td>\n",
              "      <td>3</td>\n",
              "      <td>2</td>\n",
              "      <td>0</td>\n",
              "      <td>0</td>\n",
              "      <td>0</td>\n",
              "      <td>1</td>\n",
              "      <td>0</td>\n",
              "    </tr>\n",
              "    <tr>\n",
              "      <th>hiphop</th>\n",
              "      <td>0</td>\n",
              "      <td>0</td>\n",
              "      <td>0</td>\n",
              "      <td>0</td>\n",
              "      <td>2</td>\n",
              "      <td>0</td>\n",
              "      <td>1</td>\n",
              "      <td>0</td>\n",
              "      <td>0</td>\n",
              "      <td>0</td>\n",
              "    </tr>\n",
              "    <tr>\n",
              "      <th>jazz</th>\n",
              "      <td>0</td>\n",
              "      <td>1</td>\n",
              "      <td>0</td>\n",
              "      <td>0</td>\n",
              "      <td>0</td>\n",
              "      <td>6</td>\n",
              "      <td>0</td>\n",
              "      <td>0</td>\n",
              "      <td>0</td>\n",
              "      <td>0</td>\n",
              "    </tr>\n",
              "    <tr>\n",
              "      <th>metal</th>\n",
              "      <td>0</td>\n",
              "      <td>0</td>\n",
              "      <td>0</td>\n",
              "      <td>1</td>\n",
              "      <td>0</td>\n",
              "      <td>0</td>\n",
              "      <td>1</td>\n",
              "      <td>0</td>\n",
              "      <td>0</td>\n",
              "      <td>0</td>\n",
              "    </tr>\n",
              "    <tr>\n",
              "      <th>pop</th>\n",
              "      <td>2</td>\n",
              "      <td>0</td>\n",
              "      <td>0</td>\n",
              "      <td>0</td>\n",
              "      <td>0</td>\n",
              "      <td>0</td>\n",
              "      <td>0</td>\n",
              "      <td>2</td>\n",
              "      <td>0</td>\n",
              "      <td>0</td>\n",
              "    </tr>\n",
              "    <tr>\n",
              "      <th>reggae</th>\n",
              "      <td>1</td>\n",
              "      <td>0</td>\n",
              "      <td>0</td>\n",
              "      <td>0</td>\n",
              "      <td>0</td>\n",
              "      <td>1</td>\n",
              "      <td>0</td>\n",
              "      <td>0</td>\n",
              "      <td>2</td>\n",
              "      <td>0</td>\n",
              "    </tr>\n",
              "    <tr>\n",
              "      <th>rock</th>\n",
              "      <td>1</td>\n",
              "      <td>2</td>\n",
              "      <td>2</td>\n",
              "      <td>0</td>\n",
              "      <td>0</td>\n",
              "      <td>0</td>\n",
              "      <td>1</td>\n",
              "      <td>0</td>\n",
              "      <td>0</td>\n",
              "      <td>1</td>\n",
              "    </tr>\n",
              "  </tbody>\n",
              "</table>\n",
              "</div>"
            ],
            "text/plain": [
              "           blues  classical  country  disco  ...  metal  pop  reggae  rock\n",
              "blues          3          0        1      0  ...      0    0       0     0\n",
              "classical      0          4        0      0  ...      0    0       0     0\n",
              "country        1          1        5      0  ...      0    1       0     0\n",
              "disco          0          0        1      3  ...      0    0       1     0\n",
              "hiphop         0          0        0      0  ...      1    0       0     0\n",
              "jazz           0          1        0      0  ...      0    0       0     0\n",
              "metal          0          0        0      1  ...      1    0       0     0\n",
              "pop            2          0        0      0  ...      0    2       0     0\n",
              "reggae         1          0        0      0  ...      0    0       2     0\n",
              "rock           1          2        2      0  ...      1    0       0     1\n",
              "\n",
              "[10 rows x 10 columns]"
            ]
          },
          "metadata": {
            "tags": []
          },
          "execution_count": 57
        }
      ]
    },
    {
      "cell_type": "code",
      "metadata": {
        "colab": {
          "base_uri": "https://localhost:8080/"
        },
        "id": "9VhCvnsp2Z-_",
        "outputId": "4a7c15d4-eea5-4c35-a95b-bb16f6c4d954"
      },
      "source": [
        "# Accuracy・Precision・Recall・F1の計算\n",
        "from sklearn.metrics import accuracy_score\n",
        "from sklearn.metrics import precision_score\n",
        "from sklearn.metrics import recall_score\n",
        "from sklearn.metrics import f1_score\n",
        "print(\"accuracy:\",accuracy_score(genre_true,genre_pred))\n",
        "print(\"precision:\",precision_score(genre_true,genre_pred,average=\"weighted\",zero_division=0))\n",
        "print(\"recall:\",recall_score(genre_true,genre_pred,average=\"weighted\",zero_division=0))\n",
        "print(\"f1:\",f1_score(genre_true,genre_pred,average=\"weighted\",zero_division=0))"
      ],
      "execution_count": 59,
      "outputs": [
        {
          "output_type": "stream",
          "text": [
            "accuracy: 0.58\n",
            "precision: 0.6738888888888889\n",
            "recall: 0.58\n",
            "f1: 0.5605289024700789\n"
          ],
          "name": "stdout"
        }
      ]
    },
    {
      "cell_type": "markdown",
      "metadata": {
        "id": "sUGXM6rBXmrT"
      },
      "source": [
        "### 音楽+環境音"
      ]
    },
    {
      "cell_type": "code",
      "metadata": {
        "id": "h6BdK-jDaJeS"
      },
      "source": [
        "# music2vecモデルのロード\n",
        "model_path = \"music2vec_20epochs.h5\"\n",
        "music2vec = tf.keras.models.load_model(model_path)"
      ],
      "execution_count": 60,
      "outputs": []
    },
    {
      "cell_type": "code",
      "metadata": {
        "id": "VdSYRgo4aJeT"
      },
      "source": [
        "# music2vecに入力するための前処理\n",
        "total_num = 0\n",
        "soundnet_input = list()\n",
        "\n",
        "for i in range(len(music_len_list)):\n",
        "  input = np.concatenate(mix_data[total_num:total_num+music_len_list[i]],axis=0)\n",
        "  resampled = librosa.resample(input,8000,22050)\n",
        "  padded = np.concatenate([resampled, np.zeros(675808-len(resampled))],axis=0)\n",
        "  padded *= 256.0\n",
        "  padded = np.reshape(padded,(-1,1))\n",
        "  soundnet_input.append(padded)\n",
        "  total_num += music_len_list[i]\n",
        "\n",
        "soundnet_input = np.asarray(soundnet_input)"
      ],
      "execution_count": 61,
      "outputs": []
    },
    {
      "cell_type": "code",
      "metadata": {
        "id": "S0hN_UC5aJeU"
      },
      "source": [
        "# 推論\n",
        "music2vec_result = music2vec.predict(soundnet_input,batch_size=25)"
      ],
      "execution_count": null,
      "outputs": []
    },
    {
      "cell_type": "code",
      "metadata": {
        "id": "ZHYLA0fPaJeX"
      },
      "source": [
        "# モデルの出力やラベルと、それが表すジャンルを対応させる\n",
        "genre_list = [\"blues\",\"classical\",\"country\",\"disco\",\"hiphop\",\"jazz\",\"metal\",\"pop\",\"reggae\",\"rock\"]\n",
        "\n",
        "genre_pred = list()\n",
        "genre_true = list()\n",
        "for i in range(len(gtzan_labels)):\n",
        "  genre_pred.append(genre_list[tf.math.argmax(music2vec_result[i],axis=0)])\n",
        "  genre_true.append(genre_list[tf.math.argmax(gtzan_labels[i],axis=0)])"
      ],
      "execution_count": 63,
      "outputs": []
    },
    {
      "cell_type": "code",
      "metadata": {
        "id": "pFtanBaDaJeY"
      },
      "source": [
        "# 混同行列の作成\n",
        "from sklearn.metrics import confusion_matrix\n",
        "import pandas as pd\n",
        "df = pd.DataFrame(confusion_matrix(genre_true, genre_pred, labels=genre_list))\n",
        "df.columns = genre_list\n",
        "df.index = genre_list"
      ],
      "execution_count": 66,
      "outputs": []
    },
    {
      "cell_type": "code",
      "metadata": {
        "colab": {
          "base_uri": "https://localhost:8080/"
        },
        "id": "BtMeW_-DOxMU",
        "outputId": "13e617f4-09ca-4dee-b2c8-2351c8a3431d"
      },
      "source": [
        "df"
      ],
      "execution_count": null,
      "outputs": [
        {
          "output_type": "execute_result",
          "data": {
            "text/html": [
              "<div>\n",
              "<style scoped>\n",
              "    .dataframe tbody tr th:only-of-type {\n",
              "        vertical-align: middle;\n",
              "    }\n",
              "\n",
              "    .dataframe tbody tr th {\n",
              "        vertical-align: top;\n",
              "    }\n",
              "\n",
              "    .dataframe thead th {\n",
              "        text-align: right;\n",
              "    }\n",
              "</style>\n",
              "<table border=\"1\" class=\"dataframe\">\n",
              "  <thead>\n",
              "    <tr style=\"text-align: right;\">\n",
              "      <th></th>\n",
              "      <th>blues</th>\n",
              "      <th>classical</th>\n",
              "      <th>country</th>\n",
              "      <th>disco</th>\n",
              "      <th>hiphop</th>\n",
              "      <th>jazz</th>\n",
              "      <th>metal</th>\n",
              "      <th>pop</th>\n",
              "      <th>reggae</th>\n",
              "      <th>rock</th>\n",
              "    </tr>\n",
              "  </thead>\n",
              "  <tbody>\n",
              "    <tr>\n",
              "      <th>blues</th>\n",
              "      <td>1</td>\n",
              "      <td>0</td>\n",
              "      <td>1</td>\n",
              "      <td>0</td>\n",
              "      <td>0</td>\n",
              "      <td>2</td>\n",
              "      <td>0</td>\n",
              "      <td>0</td>\n",
              "      <td>0</td>\n",
              "      <td>0</td>\n",
              "    </tr>\n",
              "    <tr>\n",
              "      <th>classical</th>\n",
              "      <td>0</td>\n",
              "      <td>2</td>\n",
              "      <td>0</td>\n",
              "      <td>0</td>\n",
              "      <td>2</td>\n",
              "      <td>0</td>\n",
              "      <td>0</td>\n",
              "      <td>0</td>\n",
              "      <td>0</td>\n",
              "      <td>0</td>\n",
              "    </tr>\n",
              "    <tr>\n",
              "      <th>country</th>\n",
              "      <td>3</td>\n",
              "      <td>0</td>\n",
              "      <td>1</td>\n",
              "      <td>0</td>\n",
              "      <td>0</td>\n",
              "      <td>1</td>\n",
              "      <td>0</td>\n",
              "      <td>2</td>\n",
              "      <td>1</td>\n",
              "      <td>0</td>\n",
              "    </tr>\n",
              "    <tr>\n",
              "      <th>disco</th>\n",
              "      <td>0</td>\n",
              "      <td>0</td>\n",
              "      <td>0</td>\n",
              "      <td>2</td>\n",
              "      <td>3</td>\n",
              "      <td>1</td>\n",
              "      <td>0</td>\n",
              "      <td>0</td>\n",
              "      <td>1</td>\n",
              "      <td>0</td>\n",
              "    </tr>\n",
              "    <tr>\n",
              "      <th>hiphop</th>\n",
              "      <td>0</td>\n",
              "      <td>0</td>\n",
              "      <td>0</td>\n",
              "      <td>0</td>\n",
              "      <td>2</td>\n",
              "      <td>0</td>\n",
              "      <td>1</td>\n",
              "      <td>0</td>\n",
              "      <td>0</td>\n",
              "      <td>0</td>\n",
              "    </tr>\n",
              "    <tr>\n",
              "      <th>jazz</th>\n",
              "      <td>0</td>\n",
              "      <td>0</td>\n",
              "      <td>0</td>\n",
              "      <td>0</td>\n",
              "      <td>1</td>\n",
              "      <td>6</td>\n",
              "      <td>0</td>\n",
              "      <td>0</td>\n",
              "      <td>0</td>\n",
              "      <td>0</td>\n",
              "    </tr>\n",
              "    <tr>\n",
              "      <th>metal</th>\n",
              "      <td>0</td>\n",
              "      <td>0</td>\n",
              "      <td>0</td>\n",
              "      <td>0</td>\n",
              "      <td>1</td>\n",
              "      <td>0</td>\n",
              "      <td>1</td>\n",
              "      <td>0</td>\n",
              "      <td>0</td>\n",
              "      <td>0</td>\n",
              "    </tr>\n",
              "    <tr>\n",
              "      <th>pop</th>\n",
              "      <td>2</td>\n",
              "      <td>0</td>\n",
              "      <td>0</td>\n",
              "      <td>0</td>\n",
              "      <td>0</td>\n",
              "      <td>0</td>\n",
              "      <td>0</td>\n",
              "      <td>1</td>\n",
              "      <td>1</td>\n",
              "      <td>0</td>\n",
              "    </tr>\n",
              "    <tr>\n",
              "      <th>reggae</th>\n",
              "      <td>0</td>\n",
              "      <td>0</td>\n",
              "      <td>0</td>\n",
              "      <td>0</td>\n",
              "      <td>1</td>\n",
              "      <td>1</td>\n",
              "      <td>0</td>\n",
              "      <td>0</td>\n",
              "      <td>2</td>\n",
              "      <td>0</td>\n",
              "    </tr>\n",
              "    <tr>\n",
              "      <th>rock</th>\n",
              "      <td>1</td>\n",
              "      <td>2</td>\n",
              "      <td>0</td>\n",
              "      <td>0</td>\n",
              "      <td>1</td>\n",
              "      <td>1</td>\n",
              "      <td>1</td>\n",
              "      <td>0</td>\n",
              "      <td>0</td>\n",
              "      <td>1</td>\n",
              "    </tr>\n",
              "  </tbody>\n",
              "</table>\n",
              "</div>"
            ],
            "text/plain": [
              "           blues  classical  country  disco  ...  metal  pop  reggae  rock\n",
              "blues          1          0        1      0  ...      0    0       0     0\n",
              "classical      0          2        0      0  ...      0    0       0     0\n",
              "country        3          0        1      0  ...      0    2       1     0\n",
              "disco          0          0        0      2  ...      0    0       1     0\n",
              "hiphop         0          0        0      0  ...      1    0       0     0\n",
              "jazz           0          0        0      0  ...      0    0       0     0\n",
              "metal          0          0        0      0  ...      1    0       0     0\n",
              "pop            2          0        0      0  ...      0    1       1     0\n",
              "reggae         0          0        0      0  ...      0    0       2     0\n",
              "rock           1          2        0      0  ...      1    0       0     1\n",
              "\n",
              "[10 rows x 10 columns]"
            ]
          },
          "metadata": {
            "tags": []
          },
          "execution_count": 67
        }
      ]
    },
    {
      "cell_type": "code",
      "metadata": {
        "colab": {
          "base_uri": "https://localhost:8080/"
        },
        "id": "xtxsCB7Y2jtK",
        "outputId": "6222822e-87ae-4d96-f132-928b0ead3a6a"
      },
      "source": [
        "# Accuracy・Precision・Recall・F1の計算\n",
        "from sklearn.metrics import accuracy_score\n",
        "from sklearn.metrics import precision_score\n",
        "from sklearn.metrics import recall_score\n",
        "from sklearn.metrics import f1_score\n",
        "print(\"accuracy:\",accuracy_score(genre_true,genre_pred))\n",
        "print(\"precision:\",precision_score(genre_true,genre_pred,average=\"weighted\",zero_division=0))\n",
        "print(\"recall:\",recall_score(genre_true,genre_pred,average=\"weighted\",zero_division=0))\n",
        "print(\"f1:\",f1_score(genre_true,genre_pred,average=\"weighted\",zero_division=0))"
      ],
      "execution_count": 69,
      "outputs": [
        {
          "output_type": "stream",
          "text": [
            "accuracy: 0.38\n",
            "precision: 0.5643376623376624\n",
            "recall: 0.38\n",
            "f1: 0.36374428495481126\n"
          ],
          "name": "stdout"
        }
      ]
    },
    {
      "cell_type": "markdown",
      "metadata": {
        "id": "xFCELYkTbDpP"
      },
      "source": [
        "## 環境音2つ"
      ]
    },
    {
      "cell_type": "markdown",
      "metadata": {
        "id": "DnKhajUQO72l"
      },
      "source": [
        "- DANetモデルの作成、重みをロード"
      ]
    },
    {
      "cell_type": "code",
      "metadata": {
        "id": "Fv-IfRSnbLm9"
      },
      "source": [
        "model = create_model()"
      ],
      "execution_count": null,
      "outputs": []
    },
    {
      "cell_type": "code",
      "metadata": {
        "id": "JnHlKXn1bDpQ"
      },
      "source": [
        "filepath = \"DANet_music_kmeans2_weights.h5\"\n",
        "model.loading(filepath)"
      ],
      "execution_count": 71,
      "outputs": []
    },
    {
      "cell_type": "markdown",
      "metadata": {
        "id": "Dr_UmUktO9xM"
      },
      "source": [
        "- DANetの推論"
      ]
    },
    {
      "cell_type": "code",
      "metadata": {
        "id": "STdJYGO8bDpQ"
      },
      "source": [
        "test_data, before_data = create_testdata2(noise_Fourier_list=noise_list,music_Fourier_list=music_list)"
      ],
      "execution_count": 72,
      "outputs": []
    },
    {
      "cell_type": "code",
      "metadata": {
        "id": "w2G62zB3bDpR"
      },
      "source": [
        "DANet_result = model.prediction(test_data[0])"
      ],
      "execution_count": null,
      "outputs": []
    },
    {
      "cell_type": "code",
      "metadata": {
        "id": "rtRkkFX5bDpR"
      },
      "source": [
        "# DANetの出力(スペクトログラム)を音声波形に戻す\n",
        "after = list()\n",
        "for i in range(len(DANet_result)):\n",
        "  after_i_1 = librosa.istft(DANet_result[i,:,:,0].reshape((129,100)), hop_length=64, win_length=256, \n",
        "                            window=square_root_of_hann, dtype=np.float32)\n",
        "  after_i_2 = librosa.istft(DANet_result[i,:,:,1].reshape((129,100)), hop_length=64, win_length=256,\n",
        "                            window=square_root_of_hann, dtype=np.float32)\n",
        "  after.append([after_i_1,after_i_2])\n",
        "\n",
        "after = np.asarray(after)"
      ],
      "execution_count": 74,
      "outputs": []
    },
    {
      "cell_type": "code",
      "metadata": {
        "id": "bNlSRAXmbDpR"
      },
      "source": [
        "# music2vecの結果の比較に利用するため、DANetの教師データ(音楽データ)を音声波形に戻す\n",
        "ideal_data = list()\n",
        "for i in range(len(before_data)):\n",
        "  music = librosa.istft(before_data[i,:,:,0].reshape((129,100)), hop_length=64, win_length=256, \n",
        "                            window=square_root_of_hann, dtype=np.float32)\n",
        "  noise = librosa.istft(before_data[i,:,:,1].reshape((129,100)), hop_length=64, win_length=256,\n",
        "                            window=square_root_of_hann, dtype=np.float32)\n",
        "  ideal_data.append([music,noise])\n",
        "\n",
        "ideal_data = np.asarray(ideal_data)"
      ],
      "execution_count": 75,
      "outputs": []
    },
    {
      "cell_type": "code",
      "metadata": {
        "id": "3EbFQyTFbDpS"
      },
      "source": [
        "# music2vecの結果の比較に利用するため、DANetの入力データ(音楽と環境音の混合音声)を音声波形に戻す\n",
        "mix_data = list()\n",
        "for i in range(len(test_data[0])):\n",
        "  mix = librosa.istft(test_data[0][i].reshape((129,100)), hop_length=64, win_length=256, \n",
        "                            window=square_root_of_hann, dtype=np.float32)\n",
        "  mix_data.append(mix)\n",
        "\n",
        "mix_data = np.asarray(mix_data)"
      ],
      "execution_count": 76,
      "outputs": []
    },
    {
      "cell_type": "markdown",
      "metadata": {
        "id": "j_1g7p1tbDpS"
      },
      "source": [
        "### DANetの出力"
      ]
    },
    {
      "cell_type": "code",
      "metadata": {
        "id": "-AFAdIxwbDpY"
      },
      "source": [
        "# music2vecモデルのロード\n",
        "model_path = \"music2vec_20epochs.h5\"\n",
        "music2vec = tf.keras.models.load_model(model_path)"
      ],
      "execution_count": 77,
      "outputs": []
    },
    {
      "cell_type": "code",
      "metadata": {
        "id": "Qpi_eWFvbDpY"
      },
      "source": [
        "# music2vecに入力するための前処理\n",
        "which = 0\n",
        "total_num = 0\n",
        "soundnet_input = list()\n",
        "\n",
        "for i in range(len(music_len_list)):\n",
        "  input = np.concatenate(after[total_num:total_num+music_len_list[i],which],axis=0)\n",
        "  resampled = librosa.resample(input,8000,22050)\n",
        "  padded = np.concatenate([resampled, np.zeros(675808-len(resampled))],axis=0)\n",
        "  padded *= 256.0\n",
        "  padded = np.reshape(padded,(-1,1))\n",
        "  soundnet_input.append(padded)\n",
        "  total_num += music_len_list[i]\n",
        "\n",
        "soundnet_input = np.asarray(soundnet_input)"
      ],
      "execution_count": 78,
      "outputs": []
    },
    {
      "cell_type": "code",
      "metadata": {
        "id": "Z0gDH7-RbDpZ"
      },
      "source": [
        "# 推論\n",
        "music2vec_result = music2vec.predict(soundnet_input,batch_size=25)"
      ],
      "execution_count": null,
      "outputs": []
    },
    {
      "cell_type": "code",
      "metadata": {
        "id": "vHMZgUTZbDpb"
      },
      "source": [
        "# モデルの出力やラベルと、それが表すジャンルを対応させる\n",
        "genre_list = [\"blues\",\"classical\",\"country\",\"disco\",\"hiphop\",\"jazz\",\"metal\",\"pop\",\"reggae\",\"rock\"]\n",
        "\n",
        "genre_pred = list()\n",
        "genre_true = list()\n",
        "for i in range(len(gtzan_labels)):\n",
        "  genre_pred.append(genre_list[tf.math.argmax(music2vec_result[i],axis=0)])\n",
        "  genre_true.append(genre_list[tf.math.argmax(gtzan_labels[i],axis=0)])"
      ],
      "execution_count": 80,
      "outputs": []
    },
    {
      "cell_type": "code",
      "metadata": {
        "id": "hnxUFFSgbDpc"
      },
      "source": [
        "# 混同行列の作成\n",
        "from sklearn.metrics import confusion_matrix\n",
        "import pandas as pd\n",
        "df = pd.DataFrame(confusion_matrix(genre_true, genre_pred, labels=genre_list))\n",
        "df.columns = genre_list\n",
        "df.index = genre_list"
      ],
      "execution_count": 83,
      "outputs": []
    },
    {
      "cell_type": "code",
      "metadata": {
        "colab": {
          "base_uri": "https://localhost:8080/",
          "height": 357
        },
        "id": "583vAMFVbDpc",
        "outputId": "855909ca-8306-4738-983b-e1d7a3e726e5"
      },
      "source": [
        "df"
      ],
      "execution_count": 84,
      "outputs": [
        {
          "output_type": "execute_result",
          "data": {
            "text/html": [
              "<div>\n",
              "<style scoped>\n",
              "    .dataframe tbody tr th:only-of-type {\n",
              "        vertical-align: middle;\n",
              "    }\n",
              "\n",
              "    .dataframe tbody tr th {\n",
              "        vertical-align: top;\n",
              "    }\n",
              "\n",
              "    .dataframe thead th {\n",
              "        text-align: right;\n",
              "    }\n",
              "</style>\n",
              "<table border=\"1\" class=\"dataframe\">\n",
              "  <thead>\n",
              "    <tr style=\"text-align: right;\">\n",
              "      <th></th>\n",
              "      <th>blues</th>\n",
              "      <th>classical</th>\n",
              "      <th>country</th>\n",
              "      <th>disco</th>\n",
              "      <th>hiphop</th>\n",
              "      <th>jazz</th>\n",
              "      <th>metal</th>\n",
              "      <th>pop</th>\n",
              "      <th>reggae</th>\n",
              "      <th>rock</th>\n",
              "    </tr>\n",
              "  </thead>\n",
              "  <tbody>\n",
              "    <tr>\n",
              "      <th>blues</th>\n",
              "      <td>0</td>\n",
              "      <td>0</td>\n",
              "      <td>0</td>\n",
              "      <td>0</td>\n",
              "      <td>1</td>\n",
              "      <td>2</td>\n",
              "      <td>1</td>\n",
              "      <td>0</td>\n",
              "      <td>0</td>\n",
              "      <td>0</td>\n",
              "    </tr>\n",
              "    <tr>\n",
              "      <th>classical</th>\n",
              "      <td>0</td>\n",
              "      <td>0</td>\n",
              "      <td>0</td>\n",
              "      <td>0</td>\n",
              "      <td>3</td>\n",
              "      <td>0</td>\n",
              "      <td>0</td>\n",
              "      <td>0</td>\n",
              "      <td>1</td>\n",
              "      <td>0</td>\n",
              "    </tr>\n",
              "    <tr>\n",
              "      <th>country</th>\n",
              "      <td>0</td>\n",
              "      <td>1</td>\n",
              "      <td>0</td>\n",
              "      <td>0</td>\n",
              "      <td>2</td>\n",
              "      <td>4</td>\n",
              "      <td>1</td>\n",
              "      <td>0</td>\n",
              "      <td>0</td>\n",
              "      <td>0</td>\n",
              "    </tr>\n",
              "    <tr>\n",
              "      <th>disco</th>\n",
              "      <td>0</td>\n",
              "      <td>0</td>\n",
              "      <td>0</td>\n",
              "      <td>0</td>\n",
              "      <td>5</td>\n",
              "      <td>2</td>\n",
              "      <td>0</td>\n",
              "      <td>0</td>\n",
              "      <td>0</td>\n",
              "      <td>0</td>\n",
              "    </tr>\n",
              "    <tr>\n",
              "      <th>hiphop</th>\n",
              "      <td>0</td>\n",
              "      <td>0</td>\n",
              "      <td>0</td>\n",
              "      <td>0</td>\n",
              "      <td>3</td>\n",
              "      <td>0</td>\n",
              "      <td>0</td>\n",
              "      <td>0</td>\n",
              "      <td>0</td>\n",
              "      <td>0</td>\n",
              "    </tr>\n",
              "    <tr>\n",
              "      <th>jazz</th>\n",
              "      <td>1</td>\n",
              "      <td>0</td>\n",
              "      <td>0</td>\n",
              "      <td>0</td>\n",
              "      <td>1</td>\n",
              "      <td>5</td>\n",
              "      <td>0</td>\n",
              "      <td>0</td>\n",
              "      <td>0</td>\n",
              "      <td>0</td>\n",
              "    </tr>\n",
              "    <tr>\n",
              "      <th>metal</th>\n",
              "      <td>0</td>\n",
              "      <td>0</td>\n",
              "      <td>0</td>\n",
              "      <td>0</td>\n",
              "      <td>1</td>\n",
              "      <td>1</td>\n",
              "      <td>0</td>\n",
              "      <td>0</td>\n",
              "      <td>0</td>\n",
              "      <td>0</td>\n",
              "    </tr>\n",
              "    <tr>\n",
              "      <th>pop</th>\n",
              "      <td>1</td>\n",
              "      <td>0</td>\n",
              "      <td>0</td>\n",
              "      <td>0</td>\n",
              "      <td>2</td>\n",
              "      <td>1</td>\n",
              "      <td>0</td>\n",
              "      <td>0</td>\n",
              "      <td>0</td>\n",
              "      <td>0</td>\n",
              "    </tr>\n",
              "    <tr>\n",
              "      <th>reggae</th>\n",
              "      <td>0</td>\n",
              "      <td>0</td>\n",
              "      <td>0</td>\n",
              "      <td>0</td>\n",
              "      <td>3</td>\n",
              "      <td>1</td>\n",
              "      <td>0</td>\n",
              "      <td>0</td>\n",
              "      <td>0</td>\n",
              "      <td>0</td>\n",
              "    </tr>\n",
              "    <tr>\n",
              "      <th>rock</th>\n",
              "      <td>1</td>\n",
              "      <td>1</td>\n",
              "      <td>0</td>\n",
              "      <td>0</td>\n",
              "      <td>3</td>\n",
              "      <td>2</td>\n",
              "      <td>0</td>\n",
              "      <td>0</td>\n",
              "      <td>0</td>\n",
              "      <td>0</td>\n",
              "    </tr>\n",
              "  </tbody>\n",
              "</table>\n",
              "</div>"
            ],
            "text/plain": [
              "           blues  classical  country  disco  ...  metal  pop  reggae  rock\n",
              "blues          0          0        0      0  ...      1    0       0     0\n",
              "classical      0          0        0      0  ...      0    0       1     0\n",
              "country        0          1        0      0  ...      1    0       0     0\n",
              "disco          0          0        0      0  ...      0    0       0     0\n",
              "hiphop         0          0        0      0  ...      0    0       0     0\n",
              "jazz           1          0        0      0  ...      0    0       0     0\n",
              "metal          0          0        0      0  ...      0    0       0     0\n",
              "pop            1          0        0      0  ...      0    0       0     0\n",
              "reggae         0          0        0      0  ...      0    0       0     0\n",
              "rock           1          1        0      0  ...      0    0       0     0\n",
              "\n",
              "[10 rows x 10 columns]"
            ]
          },
          "metadata": {
            "tags": []
          },
          "execution_count": 84
        }
      ]
    },
    {
      "cell_type": "code",
      "metadata": {
        "colab": {
          "base_uri": "https://localhost:8080/"
        },
        "id": "VreYxm4B2yX4",
        "outputId": "56c30c87-4ba1-4883-da4c-dc2bf6e1751f"
      },
      "source": [
        "# Accuracy・Precision・Recall・F1の計算\n",
        "from sklearn.metrics import accuracy_score\n",
        "from sklearn.metrics import precision_score\n",
        "from sklearn.metrics import recall_score\n",
        "from sklearn.metrics import f1_score\n",
        "print(\"accuracy:\",accuracy_score(genre_true,genre_pred))\n",
        "print(\"precision:\",precision_score(genre_true,genre_pred,average=\"weighted\",zero_division=0))\n",
        "print(\"recall:\",recall_score(genre_true,genre_pred,average=\"weighted\",zero_division=0))\n",
        "print(\"f1:\",f1_score(genre_true,genre_pred,average=\"weighted\",zero_division=0))"
      ],
      "execution_count": 86,
      "outputs": [
        {
          "output_type": "stream",
          "text": [
            "accuracy: 0.16\n",
            "precision: 0.046388888888888896\n",
            "recall: 0.16\n",
            "f1: 0.06933333333333333\n"
          ],
          "name": "stdout"
        }
      ]
    },
    {
      "cell_type": "markdown",
      "metadata": {
        "id": "vsNxWEz2bDpd"
      },
      "source": [
        "### 音楽"
      ]
    },
    {
      "cell_type": "code",
      "metadata": {
        "id": "f-ENqvXkbDpi"
      },
      "source": [
        "# music2vecモデルのロード\n",
        "model_path = \"music2vec_20epochs.h5\"\n",
        "music2vec = tf.keras.models.load_model(model_path)"
      ],
      "execution_count": 87,
      "outputs": []
    },
    {
      "cell_type": "code",
      "metadata": {
        "id": "N7IbYc4BbDpi"
      },
      "source": [
        "# music2vecに入力するための前処理\n",
        "total_num = 0\n",
        "soundnet_input = list()\n",
        "\n",
        "for i in range(len(music_len_list)):\n",
        "  input = np.concatenate(ideal_data[total_num:total_num+music_len_list[i],0],axis=0)\n",
        "  resampled = librosa.resample(input,8000,22050)\n",
        "  padded = np.concatenate([resampled, np.zeros(675808-len(resampled))],axis=0)\n",
        "  padded *= 256.0\n",
        "  padded = np.reshape(padded,(-1,1))\n",
        "  soundnet_input.append(padded)\n",
        "  total_num += music_len_list[i]\n",
        "\n",
        "soundnet_input = np.asarray(soundnet_input)"
      ],
      "execution_count": 88,
      "outputs": []
    },
    {
      "cell_type": "code",
      "metadata": {
        "id": "eDH1i2WwbDpj"
      },
      "source": [
        "# 推論\n",
        "music2vec_result = music2vec.predict(soundnet_input,batch_size=25)"
      ],
      "execution_count": null,
      "outputs": []
    },
    {
      "cell_type": "code",
      "metadata": {
        "id": "kmb4KWpTbDpm"
      },
      "source": [
        "# モデルの出力やラベルと、それが表すジャンルを対応させる\n",
        "genre_list = [\"blues\",\"classical\",\"country\",\"disco\",\"hiphop\",\"jazz\",\"metal\",\"pop\",\"reggae\",\"rock\"]\n",
        "\n",
        "genre_pred = list()\n",
        "genre_true = list()\n",
        "for i in range(len(gtzan_labels)):\n",
        "  genre_pred.append(genre_list[tf.math.argmax(music2vec_result[i],axis=0)])\n",
        "  genre_true.append(genre_list[tf.math.argmax(gtzan_labels[i],axis=0)])"
      ],
      "execution_count": 90,
      "outputs": []
    },
    {
      "cell_type": "code",
      "metadata": {
        "id": "eUdDmDZxbDpn"
      },
      "source": [
        "# 混同行列の作成\n",
        "from sklearn.metrics import confusion_matrix\n",
        "import pandas as pd\n",
        "df = pd.DataFrame(confusion_matrix(genre_true, genre_pred, labels=genre_list))\n",
        "df.columns = genre_list\n",
        "df.index = genre_list"
      ],
      "execution_count": 93,
      "outputs": []
    },
    {
      "cell_type": "code",
      "metadata": {
        "colab": {
          "base_uri": "https://localhost:8080/",
          "height": 357
        },
        "id": "3ED9nt5hbDpn",
        "outputId": "f47d8eb2-2247-48a8-b75f-84a231997987"
      },
      "source": [
        "df"
      ],
      "execution_count": 94,
      "outputs": [
        {
          "output_type": "execute_result",
          "data": {
            "text/html": [
              "<div>\n",
              "<style scoped>\n",
              "    .dataframe tbody tr th:only-of-type {\n",
              "        vertical-align: middle;\n",
              "    }\n",
              "\n",
              "    .dataframe tbody tr th {\n",
              "        vertical-align: top;\n",
              "    }\n",
              "\n",
              "    .dataframe thead th {\n",
              "        text-align: right;\n",
              "    }\n",
              "</style>\n",
              "<table border=\"1\" class=\"dataframe\">\n",
              "  <thead>\n",
              "    <tr style=\"text-align: right;\">\n",
              "      <th></th>\n",
              "      <th>blues</th>\n",
              "      <th>classical</th>\n",
              "      <th>country</th>\n",
              "      <th>disco</th>\n",
              "      <th>hiphop</th>\n",
              "      <th>jazz</th>\n",
              "      <th>metal</th>\n",
              "      <th>pop</th>\n",
              "      <th>reggae</th>\n",
              "      <th>rock</th>\n",
              "    </tr>\n",
              "  </thead>\n",
              "  <tbody>\n",
              "    <tr>\n",
              "      <th>blues</th>\n",
              "      <td>3</td>\n",
              "      <td>0</td>\n",
              "      <td>1</td>\n",
              "      <td>0</td>\n",
              "      <td>0</td>\n",
              "      <td>0</td>\n",
              "      <td>0</td>\n",
              "      <td>0</td>\n",
              "      <td>0</td>\n",
              "      <td>0</td>\n",
              "    </tr>\n",
              "    <tr>\n",
              "      <th>classical</th>\n",
              "      <td>0</td>\n",
              "      <td>4</td>\n",
              "      <td>0</td>\n",
              "      <td>0</td>\n",
              "      <td>0</td>\n",
              "      <td>0</td>\n",
              "      <td>0</td>\n",
              "      <td>0</td>\n",
              "      <td>0</td>\n",
              "      <td>0</td>\n",
              "    </tr>\n",
              "    <tr>\n",
              "      <th>country</th>\n",
              "      <td>1</td>\n",
              "      <td>1</td>\n",
              "      <td>5</td>\n",
              "      <td>0</td>\n",
              "      <td>0</td>\n",
              "      <td>0</td>\n",
              "      <td>0</td>\n",
              "      <td>1</td>\n",
              "      <td>0</td>\n",
              "      <td>0</td>\n",
              "    </tr>\n",
              "    <tr>\n",
              "      <th>disco</th>\n",
              "      <td>0</td>\n",
              "      <td>0</td>\n",
              "      <td>1</td>\n",
              "      <td>3</td>\n",
              "      <td>2</td>\n",
              "      <td>0</td>\n",
              "      <td>0</td>\n",
              "      <td>0</td>\n",
              "      <td>1</td>\n",
              "      <td>0</td>\n",
              "    </tr>\n",
              "    <tr>\n",
              "      <th>hiphop</th>\n",
              "      <td>0</td>\n",
              "      <td>0</td>\n",
              "      <td>0</td>\n",
              "      <td>0</td>\n",
              "      <td>2</td>\n",
              "      <td>0</td>\n",
              "      <td>1</td>\n",
              "      <td>0</td>\n",
              "      <td>0</td>\n",
              "      <td>0</td>\n",
              "    </tr>\n",
              "    <tr>\n",
              "      <th>jazz</th>\n",
              "      <td>0</td>\n",
              "      <td>1</td>\n",
              "      <td>0</td>\n",
              "      <td>0</td>\n",
              "      <td>0</td>\n",
              "      <td>6</td>\n",
              "      <td>0</td>\n",
              "      <td>0</td>\n",
              "      <td>0</td>\n",
              "      <td>0</td>\n",
              "    </tr>\n",
              "    <tr>\n",
              "      <th>metal</th>\n",
              "      <td>0</td>\n",
              "      <td>0</td>\n",
              "      <td>0</td>\n",
              "      <td>1</td>\n",
              "      <td>0</td>\n",
              "      <td>0</td>\n",
              "      <td>1</td>\n",
              "      <td>0</td>\n",
              "      <td>0</td>\n",
              "      <td>0</td>\n",
              "    </tr>\n",
              "    <tr>\n",
              "      <th>pop</th>\n",
              "      <td>2</td>\n",
              "      <td>0</td>\n",
              "      <td>0</td>\n",
              "      <td>0</td>\n",
              "      <td>0</td>\n",
              "      <td>0</td>\n",
              "      <td>0</td>\n",
              "      <td>2</td>\n",
              "      <td>0</td>\n",
              "      <td>0</td>\n",
              "    </tr>\n",
              "    <tr>\n",
              "      <th>reggae</th>\n",
              "      <td>1</td>\n",
              "      <td>0</td>\n",
              "      <td>0</td>\n",
              "      <td>0</td>\n",
              "      <td>0</td>\n",
              "      <td>1</td>\n",
              "      <td>0</td>\n",
              "      <td>0</td>\n",
              "      <td>2</td>\n",
              "      <td>0</td>\n",
              "    </tr>\n",
              "    <tr>\n",
              "      <th>rock</th>\n",
              "      <td>1</td>\n",
              "      <td>2</td>\n",
              "      <td>2</td>\n",
              "      <td>0</td>\n",
              "      <td>0</td>\n",
              "      <td>0</td>\n",
              "      <td>1</td>\n",
              "      <td>0</td>\n",
              "      <td>0</td>\n",
              "      <td>1</td>\n",
              "    </tr>\n",
              "  </tbody>\n",
              "</table>\n",
              "</div>"
            ],
            "text/plain": [
              "           blues  classical  country  disco  ...  metal  pop  reggae  rock\n",
              "blues          3          0        1      0  ...      0    0       0     0\n",
              "classical      0          4        0      0  ...      0    0       0     0\n",
              "country        1          1        5      0  ...      0    1       0     0\n",
              "disco          0          0        1      3  ...      0    0       1     0\n",
              "hiphop         0          0        0      0  ...      1    0       0     0\n",
              "jazz           0          1        0      0  ...      0    0       0     0\n",
              "metal          0          0        0      1  ...      1    0       0     0\n",
              "pop            2          0        0      0  ...      0    2       0     0\n",
              "reggae         1          0        0      0  ...      0    0       2     0\n",
              "rock           1          2        2      0  ...      1    0       0     1\n",
              "\n",
              "[10 rows x 10 columns]"
            ]
          },
          "metadata": {
            "tags": []
          },
          "execution_count": 94
        }
      ]
    },
    {
      "cell_type": "code",
      "metadata": {
        "colab": {
          "base_uri": "https://localhost:8080/"
        },
        "id": "Dw9nU3ep25bt",
        "outputId": "7e974713-9c3e-439f-e631-7fabee205982"
      },
      "source": [
        "# Accuracy・Precision・Recall・F1の計算\n",
        "from sklearn.metrics import accuracy_score\n",
        "from sklearn.metrics import precision_score\n",
        "from sklearn.metrics import recall_score\n",
        "from sklearn.metrics import f1_score\n",
        "print(\"accuracy:\",accuracy_score(genre_true,genre_pred))\n",
        "print(\"precision:\",precision_score(genre_true,genre_pred,average=\"weighted\",zero_division=0))\n",
        "print(\"recall:\",recall_score(genre_true,genre_pred,average=\"weighted\",zero_division=0))\n",
        "print(\"f1:\",f1_score(genre_true,genre_pred,average=\"weighted\",zero_division=0))"
      ],
      "execution_count": 96,
      "outputs": [
        {
          "output_type": "stream",
          "text": [
            "accuracy: 0.58\n",
            "precision: 0.6738888888888889\n",
            "recall: 0.58\n",
            "f1: 0.5605289024700789\n"
          ],
          "name": "stdout"
        }
      ]
    },
    {
      "cell_type": "markdown",
      "metadata": {
        "id": "eDyLGmYxbDpn"
      },
      "source": [
        "### 音楽+環境音"
      ]
    },
    {
      "cell_type": "code",
      "metadata": {
        "id": "OcTz8gjLbDpq"
      },
      "source": [
        "# music2vecモデルのロード\n",
        "model_path = \"music2vec_20epochs.h5\"\n",
        "music2vec = tf.keras.models.load_model(model_path)"
      ],
      "execution_count": 97,
      "outputs": []
    },
    {
      "cell_type": "code",
      "metadata": {
        "id": "VV_ruySubDpq"
      },
      "source": [
        "# music2vecに入力するための前処理\n",
        "total_num = 0\n",
        "soundnet_input = list()\n",
        "\n",
        "for i in range(len(music_len_list)):\n",
        "  input = np.concatenate(mix_data[total_num:total_num+music_len_list[i]],axis=0)\n",
        "  resampled = librosa.resample(input,8000,22050)\n",
        "  padded = np.concatenate([resampled, np.zeros(675808-len(resampled))],axis=0)\n",
        "  padded *= 256.0\n",
        "  padded = np.reshape(padded,(-1,1))\n",
        "  soundnet_input.append(padded)\n",
        "  total_num += music_len_list[i]\n",
        "\n",
        "soundnet_input = np.asarray(soundnet_input)"
      ],
      "execution_count": 98,
      "outputs": []
    },
    {
      "cell_type": "code",
      "metadata": {
        "id": "oIt6bOm_bDpq"
      },
      "source": [
        "# 推論\n",
        "music2vec_result = music2vec.predict(soundnet_input,batch_size=30)"
      ],
      "execution_count": null,
      "outputs": []
    },
    {
      "cell_type": "code",
      "metadata": {
        "id": "ykF4_ujqbDpt"
      },
      "source": [
        "# モデルの出力やラベルと、それが表すジャンルを対応させる\n",
        "genre_list = [\"blues\",\"classical\",\"country\",\"disco\",\"hiphop\",\"jazz\",\"metal\",\"pop\",\"reggae\",\"rock\"]\n",
        "\n",
        "genre_pred = list()\n",
        "genre_true = list()\n",
        "for i in range(len(gtzan_labels)):\n",
        "  genre_pred.append(genre_list[tf.math.argmax(music2vec_result[i],axis=0)])\n",
        "  genre_true.append(genre_list[tf.math.argmax(gtzan_labels[i],axis=0)])"
      ],
      "execution_count": 100,
      "outputs": []
    },
    {
      "cell_type": "code",
      "metadata": {
        "id": "mcg-zp6SbDpt"
      },
      "source": [
        "# 混同行列の作成\n",
        "from sklearn.metrics import confusion_matrix\n",
        "import pandas as pd\n",
        "df = pd.DataFrame(confusion_matrix(genre_true, genre_pred, labels=genre_list))\n",
        "df.columns = genre_list\n",
        "df.index = genre_list"
      ],
      "execution_count": 103,
      "outputs": []
    },
    {
      "cell_type": "code",
      "metadata": {
        "colab": {
          "base_uri": "https://localhost:8080/",
          "height": 357
        },
        "id": "P26L7pzAbDpt",
        "outputId": "ae61304b-8bf6-4133-f073-224c8a8a74a5"
      },
      "source": [
        "df"
      ],
      "execution_count": 104,
      "outputs": [
        {
          "output_type": "execute_result",
          "data": {
            "text/html": [
              "<div>\n",
              "<style scoped>\n",
              "    .dataframe tbody tr th:only-of-type {\n",
              "        vertical-align: middle;\n",
              "    }\n",
              "\n",
              "    .dataframe tbody tr th {\n",
              "        vertical-align: top;\n",
              "    }\n",
              "\n",
              "    .dataframe thead th {\n",
              "        text-align: right;\n",
              "    }\n",
              "</style>\n",
              "<table border=\"1\" class=\"dataframe\">\n",
              "  <thead>\n",
              "    <tr style=\"text-align: right;\">\n",
              "      <th></th>\n",
              "      <th>blues</th>\n",
              "      <th>classical</th>\n",
              "      <th>country</th>\n",
              "      <th>disco</th>\n",
              "      <th>hiphop</th>\n",
              "      <th>jazz</th>\n",
              "      <th>metal</th>\n",
              "      <th>pop</th>\n",
              "      <th>reggae</th>\n",
              "      <th>rock</th>\n",
              "    </tr>\n",
              "  </thead>\n",
              "  <tbody>\n",
              "    <tr>\n",
              "      <th>blues</th>\n",
              "      <td>1</td>\n",
              "      <td>1</td>\n",
              "      <td>0</td>\n",
              "      <td>1</td>\n",
              "      <td>0</td>\n",
              "      <td>1</td>\n",
              "      <td>0</td>\n",
              "      <td>0</td>\n",
              "      <td>0</td>\n",
              "      <td>0</td>\n",
              "    </tr>\n",
              "    <tr>\n",
              "      <th>classical</th>\n",
              "      <td>0</td>\n",
              "      <td>1</td>\n",
              "      <td>0</td>\n",
              "      <td>0</td>\n",
              "      <td>2</td>\n",
              "      <td>0</td>\n",
              "      <td>1</td>\n",
              "      <td>0</td>\n",
              "      <td>0</td>\n",
              "      <td>0</td>\n",
              "    </tr>\n",
              "    <tr>\n",
              "      <th>country</th>\n",
              "      <td>1</td>\n",
              "      <td>3</td>\n",
              "      <td>1</td>\n",
              "      <td>0</td>\n",
              "      <td>0</td>\n",
              "      <td>2</td>\n",
              "      <td>0</td>\n",
              "      <td>1</td>\n",
              "      <td>0</td>\n",
              "      <td>0</td>\n",
              "    </tr>\n",
              "    <tr>\n",
              "      <th>disco</th>\n",
              "      <td>0</td>\n",
              "      <td>0</td>\n",
              "      <td>0</td>\n",
              "      <td>3</td>\n",
              "      <td>2</td>\n",
              "      <td>0</td>\n",
              "      <td>2</td>\n",
              "      <td>0</td>\n",
              "      <td>0</td>\n",
              "      <td>0</td>\n",
              "    </tr>\n",
              "    <tr>\n",
              "      <th>hiphop</th>\n",
              "      <td>0</td>\n",
              "      <td>0</td>\n",
              "      <td>0</td>\n",
              "      <td>0</td>\n",
              "      <td>2</td>\n",
              "      <td>0</td>\n",
              "      <td>1</td>\n",
              "      <td>0</td>\n",
              "      <td>0</td>\n",
              "      <td>0</td>\n",
              "    </tr>\n",
              "    <tr>\n",
              "      <th>jazz</th>\n",
              "      <td>0</td>\n",
              "      <td>0</td>\n",
              "      <td>0</td>\n",
              "      <td>0</td>\n",
              "      <td>3</td>\n",
              "      <td>4</td>\n",
              "      <td>0</td>\n",
              "      <td>0</td>\n",
              "      <td>0</td>\n",
              "      <td>0</td>\n",
              "    </tr>\n",
              "    <tr>\n",
              "      <th>metal</th>\n",
              "      <td>0</td>\n",
              "      <td>0</td>\n",
              "      <td>0</td>\n",
              "      <td>0</td>\n",
              "      <td>1</td>\n",
              "      <td>0</td>\n",
              "      <td>1</td>\n",
              "      <td>0</td>\n",
              "      <td>0</td>\n",
              "      <td>0</td>\n",
              "    </tr>\n",
              "    <tr>\n",
              "      <th>pop</th>\n",
              "      <td>2</td>\n",
              "      <td>0</td>\n",
              "      <td>0</td>\n",
              "      <td>0</td>\n",
              "      <td>1</td>\n",
              "      <td>0</td>\n",
              "      <td>0</td>\n",
              "      <td>1</td>\n",
              "      <td>0</td>\n",
              "      <td>0</td>\n",
              "    </tr>\n",
              "    <tr>\n",
              "      <th>reggae</th>\n",
              "      <td>0</td>\n",
              "      <td>0</td>\n",
              "      <td>0</td>\n",
              "      <td>0</td>\n",
              "      <td>2</td>\n",
              "      <td>2</td>\n",
              "      <td>0</td>\n",
              "      <td>0</td>\n",
              "      <td>0</td>\n",
              "      <td>0</td>\n",
              "    </tr>\n",
              "    <tr>\n",
              "      <th>rock</th>\n",
              "      <td>0</td>\n",
              "      <td>2</td>\n",
              "      <td>0</td>\n",
              "      <td>0</td>\n",
              "      <td>2</td>\n",
              "      <td>1</td>\n",
              "      <td>2</td>\n",
              "      <td>0</td>\n",
              "      <td>0</td>\n",
              "      <td>0</td>\n",
              "    </tr>\n",
              "  </tbody>\n",
              "</table>\n",
              "</div>"
            ],
            "text/plain": [
              "           blues  classical  country  disco  ...  metal  pop  reggae  rock\n",
              "blues          1          1        0      1  ...      0    0       0     0\n",
              "classical      0          1        0      0  ...      1    0       0     0\n",
              "country        1          3        1      0  ...      0    1       0     0\n",
              "disco          0          0        0      3  ...      2    0       0     0\n",
              "hiphop         0          0        0      0  ...      1    0       0     0\n",
              "jazz           0          0        0      0  ...      0    0       0     0\n",
              "metal          0          0        0      0  ...      1    0       0     0\n",
              "pop            2          0        0      0  ...      0    1       0     0\n",
              "reggae         0          0        0      0  ...      0    0       0     0\n",
              "rock           0          2        0      0  ...      2    0       0     0\n",
              "\n",
              "[10 rows x 10 columns]"
            ]
          },
          "metadata": {
            "tags": []
          },
          "execution_count": 104
        }
      ]
    },
    {
      "cell_type": "code",
      "metadata": {
        "colab": {
          "base_uri": "https://localhost:8080/"
        },
        "id": "g84lbXlx2_xO",
        "outputId": "c7bd5910-4a2d-43b7-d3ec-ca3e0645a18a"
      },
      "source": [
        "# Accuracy・Precision・Recall・F1の計算\n",
        "from sklearn.metrics import accuracy_score\n",
        "from sklearn.metrics import precision_score\n",
        "from sklearn.metrics import recall_score\n",
        "from sklearn.metrics import f1_score\n",
        "print(\"accuracy:\",accuracy_score(genre_true,genre_pred))\n",
        "print(\"precision:\",precision_score(genre_true,genre_pred,average=\"weighted\",zero_division=0))\n",
        "print(\"recall:\",recall_score(genre_true,genre_pred,average=\"weighted\",zero_division=0))\n",
        "print(\"f1:\",f1_score(genre_true,genre_pred,average=\"weighted\",zero_division=0))"
      ],
      "execution_count": 106,
      "outputs": [
        {
          "output_type": "stream",
          "text": [
            "accuracy: 0.28\n",
            "precision: 0.40614285714285714\n",
            "recall: 0.28\n",
            "f1: 0.26123588829471184\n"
          ],
          "name": "stdout"
        }
      ]
    }
  ]
}